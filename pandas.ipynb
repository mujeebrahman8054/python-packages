{
 "cells": [
  {
   "cell_type": "code",
   "execution_count": 134,
   "id": "9766cccb",
   "metadata": {},
   "outputs": [],
   "source": [
    "import pandas as pd\n",
    "import numpy as np"
   ]
  },
  {
   "cell_type": "code",
   "execution_count": 135,
   "id": "a8c3d012",
   "metadata": {},
   "outputs": [
    {
     "data": {
      "text/plain": [
       "0     1.0\n",
       "1     2.0\n",
       "2     3.0\n",
       "3     4.0\n",
       "4     5.0\n",
       "5     6.0\n",
       "6     NaN\n",
       "7     8.0\n",
       "8     9.0\n",
       "9    10.0\n",
       "dtype: float64"
      ]
     },
     "execution_count": 135,
     "metadata": {},
     "output_type": "execute_result"
    }
   ],
   "source": [
    "#to create series np.nan is a null value\n",
    "s=pd.Series([1,2,3,4,5,6,np.nan,8,9,10])\n",
    "s"
   ]
  },
  {
   "cell_type": "code",
   "execution_count": 136,
   "id": "ccf4bda4",
   "metadata": {},
   "outputs": [
    {
     "data": {
      "text/plain": [
       "DatetimeIndex(['2022-05-31', '2022-06-01', '2022-06-02', '2022-06-03',\n",
       "               '2022-06-04', '2022-06-05', '2022-06-06', '2022-06-07',\n",
       "               '2022-06-08', '2022-06-09'],\n",
       "              dtype='datetime64[ns]', freq='D')"
      ]
     },
     "execution_count": 136,
     "metadata": {},
     "output_type": "execute_result"
    }
   ],
   "source": [
    "# to create a data from by passing a numpy array with datetime index and label columns\n",
    "d=pd.date_range(\"20220531\",periods=10)\n",
    "d"
   ]
  },
  {
   "cell_type": "code",
   "execution_count": 137,
   "id": "4bc7b4da",
   "metadata": {},
   "outputs": [
    {
     "data": {
      "text/html": [
       "<div>\n",
       "<style scoped>\n",
       "    .dataframe tbody tr th:only-of-type {\n",
       "        vertical-align: middle;\n",
       "    }\n",
       "\n",
       "    .dataframe tbody tr th {\n",
       "        vertical-align: top;\n",
       "    }\n",
       "\n",
       "    .dataframe thead th {\n",
       "        text-align: right;\n",
       "    }\n",
       "</style>\n",
       "<table border=\"1\" class=\"dataframe\">\n",
       "  <thead>\n",
       "    <tr style=\"text-align: right;\">\n",
       "      <th></th>\n",
       "      <th>A</th>\n",
       "      <th>B</th>\n",
       "      <th>C</th>\n",
       "      <th>D</th>\n",
       "    </tr>\n",
       "  </thead>\n",
       "  <tbody>\n",
       "    <tr>\n",
       "      <th>2022-05-31</th>\n",
       "      <td>0.057767</td>\n",
       "      <td>-0.237072</td>\n",
       "      <td>1.074943</td>\n",
       "      <td>-0.432027</td>\n",
       "    </tr>\n",
       "    <tr>\n",
       "      <th>2022-06-01</th>\n",
       "      <td>0.943025</td>\n",
       "      <td>-2.029155</td>\n",
       "      <td>-0.506864</td>\n",
       "      <td>0.173730</td>\n",
       "    </tr>\n",
       "    <tr>\n",
       "      <th>2022-06-02</th>\n",
       "      <td>-0.320725</td>\n",
       "      <td>0.971934</td>\n",
       "      <td>1.478628</td>\n",
       "      <td>0.177039</td>\n",
       "    </tr>\n",
       "    <tr>\n",
       "      <th>2022-06-03</th>\n",
       "      <td>-0.189743</td>\n",
       "      <td>2.404819</td>\n",
       "      <td>2.132989</td>\n",
       "      <td>-0.227262</td>\n",
       "    </tr>\n",
       "    <tr>\n",
       "      <th>2022-06-04</th>\n",
       "      <td>-0.292651</td>\n",
       "      <td>0.321200</td>\n",
       "      <td>0.734138</td>\n",
       "      <td>0.355978</td>\n",
       "    </tr>\n",
       "    <tr>\n",
       "      <th>2022-06-05</th>\n",
       "      <td>0.249379</td>\n",
       "      <td>0.967810</td>\n",
       "      <td>-1.965286</td>\n",
       "      <td>0.328711</td>\n",
       "    </tr>\n",
       "    <tr>\n",
       "      <th>2022-06-06</th>\n",
       "      <td>2.563224</td>\n",
       "      <td>-0.341943</td>\n",
       "      <td>0.708257</td>\n",
       "      <td>0.061063</td>\n",
       "    </tr>\n",
       "    <tr>\n",
       "      <th>2022-06-07</th>\n",
       "      <td>-2.662937</td>\n",
       "      <td>-0.809709</td>\n",
       "      <td>1.198452</td>\n",
       "      <td>0.268367</td>\n",
       "    </tr>\n",
       "    <tr>\n",
       "      <th>2022-06-08</th>\n",
       "      <td>0.107300</td>\n",
       "      <td>-0.026809</td>\n",
       "      <td>0.475158</td>\n",
       "      <td>-1.622722</td>\n",
       "    </tr>\n",
       "    <tr>\n",
       "      <th>2022-06-09</th>\n",
       "      <td>1.187577</td>\n",
       "      <td>-2.301539</td>\n",
       "      <td>0.636699</td>\n",
       "      <td>-2.091514</td>\n",
       "    </tr>\n",
       "  </tbody>\n",
       "</table>\n",
       "</div>"
      ],
      "text/plain": [
       "                   A         B         C         D\n",
       "2022-05-31  0.057767 -0.237072  1.074943 -0.432027\n",
       "2022-06-01  0.943025 -2.029155 -0.506864  0.173730\n",
       "2022-06-02 -0.320725  0.971934  1.478628  0.177039\n",
       "2022-06-03 -0.189743  2.404819  2.132989 -0.227262\n",
       "2022-06-04 -0.292651  0.321200  0.734138  0.355978\n",
       "2022-06-05  0.249379  0.967810 -1.965286  0.328711\n",
       "2022-06-06  2.563224 -0.341943  0.708257  0.061063\n",
       "2022-06-07 -2.662937 -0.809709  1.198452  0.268367\n",
       "2022-06-08  0.107300 -0.026809  0.475158 -1.622722\n",
       "2022-06-09  1.187577 -2.301539  0.636699 -2.091514"
      ]
     },
     "execution_count": 137,
     "metadata": {},
     "output_type": "execute_result"
    }
   ],
   "source": [
    "#to create a data frame\n",
    "#the np.random.randn() function creates an array of specified shape and fills it with random values as per standard normal distribution\n",
    "#column name with labels A,B,C,D\n",
    "#index of data frame is the d and it containsdatetime index\n",
    "df=pd.DataFrame(np.random.randn(10,4),index=d,columns=[\"A\",\"B\",\"C\",\"D\"])\n",
    "df"
   ]
  },
  {
   "cell_type": "code",
   "execution_count": 138,
   "id": "c27dfe58",
   "metadata": {},
   "outputs": [
    {
     "data": {
      "text/html": [
       "<div>\n",
       "<style scoped>\n",
       "    .dataframe tbody tr th:only-of-type {\n",
       "        vertical-align: middle;\n",
       "    }\n",
       "\n",
       "    .dataframe tbody tr th {\n",
       "        vertical-align: top;\n",
       "    }\n",
       "\n",
       "    .dataframe thead th {\n",
       "        text-align: right;\n",
       "    }\n",
       "</style>\n",
       "<table border=\"1\" class=\"dataframe\">\n",
       "  <thead>\n",
       "    <tr style=\"text-align: right;\">\n",
       "      <th></th>\n",
       "      <th>A</th>\n",
       "      <th>B</th>\n",
       "      <th>C</th>\n",
       "      <th>D</th>\n",
       "      <th>E</th>\n",
       "      <th>F</th>\n",
       "    </tr>\n",
       "  </thead>\n",
       "  <tbody>\n",
       "    <tr>\n",
       "      <th>0</th>\n",
       "      <td>1</td>\n",
       "      <td>2022-05-31</td>\n",
       "      <td>1.0</td>\n",
       "      <td>5</td>\n",
       "      <td>true</td>\n",
       "      <td>pandas</td>\n",
       "    </tr>\n",
       "    <tr>\n",
       "      <th>1</th>\n",
       "      <td>2</td>\n",
       "      <td>2022-05-31</td>\n",
       "      <td>1.0</td>\n",
       "      <td>5</td>\n",
       "      <td>false</td>\n",
       "      <td>pandas</td>\n",
       "    </tr>\n",
       "    <tr>\n",
       "      <th>2</th>\n",
       "      <td>3</td>\n",
       "      <td>2022-05-31</td>\n",
       "      <td>1.0</td>\n",
       "      <td>5</td>\n",
       "      <td>true</td>\n",
       "      <td>pandas</td>\n",
       "    </tr>\n",
       "    <tr>\n",
       "      <th>3</th>\n",
       "      <td>4</td>\n",
       "      <td>2022-05-31</td>\n",
       "      <td>1.0</td>\n",
       "      <td>5</td>\n",
       "      <td>false</td>\n",
       "      <td>pandas</td>\n",
       "    </tr>\n",
       "  </tbody>\n",
       "</table>\n",
       "</div>"
      ],
      "text/plain": [
       "   A          B    C  D      E       F\n",
       "0  1 2022-05-31  1.0  5   true  pandas\n",
       "1  2 2022-05-31  1.0  5  false  pandas\n",
       "2  3 2022-05-31  1.0  5   true  pandas\n",
       "3  4 2022-05-31  1.0  5  false  pandas"
      ]
     },
     "execution_count": 138,
     "metadata": {},
     "output_type": "execute_result"
    }
   ],
   "source": [
    "#create a dataframe by passing a dictionary of objects and it converted into a series \n",
    "df1=pd.DataFrame({\"A\":[1,2,3,4],\n",
    "                 \"B\":pd.Timestamp(\"20220531\"),\n",
    "                 \"C\":pd.Series(1,index=list(range(4)),dtype=\"float32\"),\n",
    "                 \"D\":np.array([5]*4,dtype=\"int32\"),\n",
    "                 \"E\":pd.Categorical([\"true\",\"false\",\"true\",\"false\"]),\n",
    "                 \"F\":\"pandas\"})\n",
    "df1"
   ]
  },
  {
   "cell_type": "code",
   "execution_count": 139,
   "id": "1fc547ca",
   "metadata": {},
   "outputs": [
    {
     "data": {
      "text/plain": [
       "A             int64\n",
       "B    datetime64[ns]\n",
       "C           float32\n",
       "D             int32\n",
       "E          category\n",
       "F            object\n",
       "dtype: object"
      ]
     },
     "execution_count": 139,
     "metadata": {},
     "output_type": "execute_result"
    }
   ],
   "source": [
    "#to check datatypes\n",
    "df1.dtypes"
   ]
  },
  {
   "cell_type": "code",
   "execution_count": 140,
   "id": "2366a864",
   "metadata": {},
   "outputs": [
    {
     "data": {
      "text/plain": [
       "A    float64\n",
       "B    float64\n",
       "C    float64\n",
       "D    float64\n",
       "dtype: object"
      ]
     },
     "execution_count": 140,
     "metadata": {},
     "output_type": "execute_result"
    }
   ],
   "source": [
    "df.dtypes"
   ]
  },
  {
   "cell_type": "code",
   "execution_count": 141,
   "id": "09a10a95",
   "metadata": {},
   "outputs": [
    {
     "data": {
      "text/html": [
       "<div>\n",
       "<style scoped>\n",
       "    .dataframe tbody tr th:only-of-type {\n",
       "        vertical-align: middle;\n",
       "    }\n",
       "\n",
       "    .dataframe tbody tr th {\n",
       "        vertical-align: top;\n",
       "    }\n",
       "\n",
       "    .dataframe thead th {\n",
       "        text-align: right;\n",
       "    }\n",
       "</style>\n",
       "<table border=\"1\" class=\"dataframe\">\n",
       "  <thead>\n",
       "    <tr style=\"text-align: right;\">\n",
       "      <th></th>\n",
       "      <th>A</th>\n",
       "      <th>B</th>\n",
       "      <th>C</th>\n",
       "      <th>D</th>\n",
       "    </tr>\n",
       "  </thead>\n",
       "  <tbody>\n",
       "    <tr>\n",
       "      <th>2022-05-31</th>\n",
       "      <td>0.057767</td>\n",
       "      <td>-0.237072</td>\n",
       "      <td>1.074943</td>\n",
       "      <td>-0.432027</td>\n",
       "    </tr>\n",
       "    <tr>\n",
       "      <th>2022-06-01</th>\n",
       "      <td>0.943025</td>\n",
       "      <td>-2.029155</td>\n",
       "      <td>-0.506864</td>\n",
       "      <td>0.173730</td>\n",
       "    </tr>\n",
       "    <tr>\n",
       "      <th>2022-06-02</th>\n",
       "      <td>-0.320725</td>\n",
       "      <td>0.971934</td>\n",
       "      <td>1.478628</td>\n",
       "      <td>0.177039</td>\n",
       "    </tr>\n",
       "    <tr>\n",
       "      <th>2022-06-03</th>\n",
       "      <td>-0.189743</td>\n",
       "      <td>2.404819</td>\n",
       "      <td>2.132989</td>\n",
       "      <td>-0.227262</td>\n",
       "    </tr>\n",
       "    <tr>\n",
       "      <th>2022-06-04</th>\n",
       "      <td>-0.292651</td>\n",
       "      <td>0.321200</td>\n",
       "      <td>0.734138</td>\n",
       "      <td>0.355978</td>\n",
       "    </tr>\n",
       "  </tbody>\n",
       "</table>\n",
       "</div>"
      ],
      "text/plain": [
       "                   A         B         C         D\n",
       "2022-05-31  0.057767 -0.237072  1.074943 -0.432027\n",
       "2022-06-01  0.943025 -2.029155 -0.506864  0.173730\n",
       "2022-06-02 -0.320725  0.971934  1.478628  0.177039\n",
       "2022-06-03 -0.189743  2.404819  2.132989 -0.227262\n",
       "2022-06-04 -0.292651  0.321200  0.734138  0.355978"
      ]
     },
     "execution_count": 141,
     "metadata": {},
     "output_type": "execute_result"
    }
   ],
   "source": [
    "#view the data ,it will give 5 values\n",
    "df.head()"
   ]
  },
  {
   "cell_type": "code",
   "execution_count": 142,
   "id": "f4f4dd20",
   "metadata": {},
   "outputs": [
    {
     "data": {
      "text/html": [
       "<div>\n",
       "<style scoped>\n",
       "    .dataframe tbody tr th:only-of-type {\n",
       "        vertical-align: middle;\n",
       "    }\n",
       "\n",
       "    .dataframe tbody tr th {\n",
       "        vertical-align: top;\n",
       "    }\n",
       "\n",
       "    .dataframe thead th {\n",
       "        text-align: right;\n",
       "    }\n",
       "</style>\n",
       "<table border=\"1\" class=\"dataframe\">\n",
       "  <thead>\n",
       "    <tr style=\"text-align: right;\">\n",
       "      <th></th>\n",
       "      <th>A</th>\n",
       "      <th>B</th>\n",
       "      <th>C</th>\n",
       "      <th>D</th>\n",
       "    </tr>\n",
       "  </thead>\n",
       "  <tbody>\n",
       "    <tr>\n",
       "      <th>2022-06-05</th>\n",
       "      <td>0.266158</td>\n",
       "      <td>-1.397164</td>\n",
       "      <td>0.460312</td>\n",
       "      <td>0.353587</td>\n",
       "    </tr>\n",
       "    <tr>\n",
       "      <th>2022-06-06</th>\n",
       "      <td>1.230046</td>\n",
       "      <td>-0.183181</td>\n",
       "      <td>-0.819522</td>\n",
       "      <td>1.119959</td>\n",
       "    </tr>\n",
       "    <tr>\n",
       "      <th>2022-06-07</th>\n",
       "      <td>-1.226685</td>\n",
       "      <td>-0.975312</td>\n",
       "      <td>0.887330</td>\n",
       "      <td>-1.237379</td>\n",
       "    </tr>\n",
       "    <tr>\n",
       "      <th>2022-06-08</th>\n",
       "      <td>-1.071320</td>\n",
       "      <td>-0.066131</td>\n",
       "      <td>1.046769</td>\n",
       "      <td>-1.118565</td>\n",
       "    </tr>\n",
       "    <tr>\n",
       "      <th>2022-06-09</th>\n",
       "      <td>0.266229</td>\n",
       "      <td>-0.479117</td>\n",
       "      <td>-0.306122</td>\n",
       "      <td>1.828267</td>\n",
       "    </tr>\n",
       "  </tbody>\n",
       "</table>\n",
       "</div>"
      ],
      "text/plain": [
       "                   A         B         C         D\n",
       "2022-06-05  0.266158 -1.397164  0.460312  0.353587\n",
       "2022-06-06  1.230046 -0.183181 -0.819522  1.119959\n",
       "2022-06-07 -1.226685 -0.975312  0.887330 -1.237379\n",
       "2022-06-08 -1.071320 -0.066131  1.046769 -1.118565\n",
       "2022-06-09  0.266229 -0.479117 -0.306122  1.828267"
      ]
     },
     "execution_count": 142,
     "metadata": {},
     "output_type": "execute_result"
    }
   ],
   "source": [
    "# to get the last 5 values\n",
    "import pandas as pd\n",
    "import numpy as np\n",
    "d=pd.date_range(\"20220531\",periods=10)\n",
    "df=pd.DataFrame(np.random.randn(10,4),index=d,columns=[\"A\",\"B\",\"C\",\"D\"])\n",
    "df.tail()"
   ]
  },
  {
   "cell_type": "code",
   "execution_count": 143,
   "id": "d25815f3",
   "metadata": {},
   "outputs": [
    {
     "data": {
      "text/plain": [
       "DatetimeIndex(['2022-05-31', '2022-06-01', '2022-06-02', '2022-06-03',\n",
       "               '2022-06-04', '2022-06-05', '2022-06-06', '2022-06-07',\n",
       "               '2022-06-08', '2022-06-09'],\n",
       "              dtype='datetime64[ns]', freq='D')"
      ]
     },
     "execution_count": 143,
     "metadata": {},
     "output_type": "execute_result"
    }
   ],
   "source": [
    "#to get index of dataframe\n",
    "df.index"
   ]
  },
  {
   "cell_type": "code",
   "execution_count": 144,
   "id": "776fb4c5",
   "metadata": {},
   "outputs": [
    {
     "data": {
      "text/plain": [
       "Index(['A', 'B', 'C', 'D'], dtype='object')"
      ]
     },
     "execution_count": 144,
     "metadata": {},
     "output_type": "execute_result"
    }
   ],
   "source": [
    "#to get the column of the dataframe\n",
    "df.columns"
   ]
  },
  {
   "cell_type": "code",
   "execution_count": 145,
   "id": "7e79f848",
   "metadata": {},
   "outputs": [
    {
     "data": {
      "text/plain": [
       "array([[-0.92888064,  0.61004834,  0.10358616, -0.2862184 ],\n",
       "       [ 0.40509875,  1.1353288 , -1.71655691, -0.1543454 ],\n",
       "       [ 0.5401402 ,  2.20861467, -0.83845421,  1.73216082],\n",
       "       [-1.10542158, -0.2250297 , -0.56470131, -0.71030006],\n",
       "       [-0.24194692,  0.03821016, -1.58313873,  0.58924764],\n",
       "       [ 0.26615834, -1.39716361,  0.46031225,  0.35358721],\n",
       "       [ 1.23004614, -0.18318065, -0.81952184,  1.11995851],\n",
       "       [-1.22668487, -0.97531157,  0.88732957, -1.23737883],\n",
       "       [-1.07131997, -0.06613072,  1.04676912, -1.11856501],\n",
       "       [ 0.2662287 , -0.47911697, -0.30612245,  1.82826701]])"
      ]
     },
     "execution_count": 145,
     "metadata": {},
     "output_type": "execute_result"
    }
   ],
   "source": [
    "#to give the numpy representation of the data\n",
    "df.to_numpy()"
   ]
  },
  {
   "cell_type": "code",
   "execution_count": 146,
   "id": "404c1c28",
   "metadata": {},
   "outputs": [
    {
     "data": {
      "text/html": [
       "<div>\n",
       "<style scoped>\n",
       "    .dataframe tbody tr th:only-of-type {\n",
       "        vertical-align: middle;\n",
       "    }\n",
       "\n",
       "    .dataframe tbody tr th {\n",
       "        vertical-align: top;\n",
       "    }\n",
       "\n",
       "    .dataframe thead th {\n",
       "        text-align: right;\n",
       "    }\n",
       "</style>\n",
       "<table border=\"1\" class=\"dataframe\">\n",
       "  <thead>\n",
       "    <tr style=\"text-align: right;\">\n",
       "      <th></th>\n",
       "      <th>A</th>\n",
       "      <th>B</th>\n",
       "      <th>C</th>\n",
       "      <th>D</th>\n",
       "    </tr>\n",
       "  </thead>\n",
       "  <tbody>\n",
       "    <tr>\n",
       "      <th>count</th>\n",
       "      <td>10.000000</td>\n",
       "      <td>10.000000</td>\n",
       "      <td>10.000000</td>\n",
       "      <td>10.000000</td>\n",
       "    </tr>\n",
       "    <tr>\n",
       "      <th>mean</th>\n",
       "      <td>-0.186658</td>\n",
       "      <td>0.066627</td>\n",
       "      <td>-0.333050</td>\n",
       "      <td>0.211641</td>\n",
       "    </tr>\n",
       "    <tr>\n",
       "      <th>std</th>\n",
       "      <td>0.853618</td>\n",
       "      <td>1.039102</td>\n",
       "      <td>0.956649</td>\n",
       "      <td>1.106251</td>\n",
       "    </tr>\n",
       "    <tr>\n",
       "      <th>min</th>\n",
       "      <td>-1.226685</td>\n",
       "      <td>-1.397164</td>\n",
       "      <td>-1.716557</td>\n",
       "      <td>-1.237379</td>\n",
       "    </tr>\n",
       "    <tr>\n",
       "      <th>25%</th>\n",
       "      <td>-1.035710</td>\n",
       "      <td>-0.415595</td>\n",
       "      <td>-0.833721</td>\n",
       "      <td>-0.604280</td>\n",
       "    </tr>\n",
       "    <tr>\n",
       "      <th>50%</th>\n",
       "      <td>0.012106</td>\n",
       "      <td>-0.124656</td>\n",
       "      <td>-0.435412</td>\n",
       "      <td>0.099621</td>\n",
       "    </tr>\n",
       "    <tr>\n",
       "      <th>75%</th>\n",
       "      <td>0.370381</td>\n",
       "      <td>0.467089</td>\n",
       "      <td>0.371131</td>\n",
       "      <td>0.987281</td>\n",
       "    </tr>\n",
       "    <tr>\n",
       "      <th>max</th>\n",
       "      <td>1.230046</td>\n",
       "      <td>2.208615</td>\n",
       "      <td>1.046769</td>\n",
       "      <td>1.828267</td>\n",
       "    </tr>\n",
       "  </tbody>\n",
       "</table>\n",
       "</div>"
      ],
      "text/plain": [
       "               A          B          C          D\n",
       "count  10.000000  10.000000  10.000000  10.000000\n",
       "mean   -0.186658   0.066627  -0.333050   0.211641\n",
       "std     0.853618   1.039102   0.956649   1.106251\n",
       "min    -1.226685  -1.397164  -1.716557  -1.237379\n",
       "25%    -1.035710  -0.415595  -0.833721  -0.604280\n",
       "50%     0.012106  -0.124656  -0.435412   0.099621\n",
       "75%     0.370381   0.467089   0.371131   0.987281\n",
       "max     1.230046   2.208615   1.046769   1.828267"
      ]
     },
     "execution_count": 146,
     "metadata": {},
     "output_type": "execute_result"
    }
   ],
   "source": [
    "#to describe the data\n",
    "df.describe()"
   ]
  },
  {
   "cell_type": "code",
   "execution_count": 147,
   "id": "fb7b78be",
   "metadata": {},
   "outputs": [
    {
     "data": {
      "text/html": [
       "<div>\n",
       "<style scoped>\n",
       "    .dataframe tbody tr th:only-of-type {\n",
       "        vertical-align: middle;\n",
       "    }\n",
       "\n",
       "    .dataframe tbody tr th {\n",
       "        vertical-align: top;\n",
       "    }\n",
       "\n",
       "    .dataframe thead th {\n",
       "        text-align: right;\n",
       "    }\n",
       "</style>\n",
       "<table border=\"1\" class=\"dataframe\">\n",
       "  <thead>\n",
       "    <tr style=\"text-align: right;\">\n",
       "      <th></th>\n",
       "      <th>D</th>\n",
       "      <th>C</th>\n",
       "      <th>B</th>\n",
       "      <th>A</th>\n",
       "    </tr>\n",
       "  </thead>\n",
       "  <tbody>\n",
       "    <tr>\n",
       "      <th>2022-05-31</th>\n",
       "      <td>-0.286218</td>\n",
       "      <td>0.103586</td>\n",
       "      <td>0.610048</td>\n",
       "      <td>-0.928881</td>\n",
       "    </tr>\n",
       "    <tr>\n",
       "      <th>2022-06-01</th>\n",
       "      <td>-0.154345</td>\n",
       "      <td>-1.716557</td>\n",
       "      <td>1.135329</td>\n",
       "      <td>0.405099</td>\n",
       "    </tr>\n",
       "    <tr>\n",
       "      <th>2022-06-02</th>\n",
       "      <td>1.732161</td>\n",
       "      <td>-0.838454</td>\n",
       "      <td>2.208615</td>\n",
       "      <td>0.540140</td>\n",
       "    </tr>\n",
       "    <tr>\n",
       "      <th>2022-06-03</th>\n",
       "      <td>-0.710300</td>\n",
       "      <td>-0.564701</td>\n",
       "      <td>-0.225030</td>\n",
       "      <td>-1.105422</td>\n",
       "    </tr>\n",
       "    <tr>\n",
       "      <th>2022-06-04</th>\n",
       "      <td>0.589248</td>\n",
       "      <td>-1.583139</td>\n",
       "      <td>0.038210</td>\n",
       "      <td>-0.241947</td>\n",
       "    </tr>\n",
       "    <tr>\n",
       "      <th>2022-06-05</th>\n",
       "      <td>0.353587</td>\n",
       "      <td>0.460312</td>\n",
       "      <td>-1.397164</td>\n",
       "      <td>0.266158</td>\n",
       "    </tr>\n",
       "    <tr>\n",
       "      <th>2022-06-06</th>\n",
       "      <td>1.119959</td>\n",
       "      <td>-0.819522</td>\n",
       "      <td>-0.183181</td>\n",
       "      <td>1.230046</td>\n",
       "    </tr>\n",
       "    <tr>\n",
       "      <th>2022-06-07</th>\n",
       "      <td>-1.237379</td>\n",
       "      <td>0.887330</td>\n",
       "      <td>-0.975312</td>\n",
       "      <td>-1.226685</td>\n",
       "    </tr>\n",
       "    <tr>\n",
       "      <th>2022-06-08</th>\n",
       "      <td>-1.118565</td>\n",
       "      <td>1.046769</td>\n",
       "      <td>-0.066131</td>\n",
       "      <td>-1.071320</td>\n",
       "    </tr>\n",
       "    <tr>\n",
       "      <th>2022-06-09</th>\n",
       "      <td>1.828267</td>\n",
       "      <td>-0.306122</td>\n",
       "      <td>-0.479117</td>\n",
       "      <td>0.266229</td>\n",
       "    </tr>\n",
       "  </tbody>\n",
       "</table>\n",
       "</div>"
      ],
      "text/plain": [
       "                   D         C         B         A\n",
       "2022-05-31 -0.286218  0.103586  0.610048 -0.928881\n",
       "2022-06-01 -0.154345 -1.716557  1.135329  0.405099\n",
       "2022-06-02  1.732161 -0.838454  2.208615  0.540140\n",
       "2022-06-03 -0.710300 -0.564701 -0.225030 -1.105422\n",
       "2022-06-04  0.589248 -1.583139  0.038210 -0.241947\n",
       "2022-06-05  0.353587  0.460312 -1.397164  0.266158\n",
       "2022-06-06  1.119959 -0.819522 -0.183181  1.230046\n",
       "2022-06-07 -1.237379  0.887330 -0.975312 -1.226685\n",
       "2022-06-08 -1.118565  1.046769 -0.066131 -1.071320\n",
       "2022-06-09  1.828267 -0.306122 -0.479117  0.266229"
      ]
     },
     "execution_count": 147,
     "metadata": {},
     "output_type": "execute_result"
    }
   ],
   "source": [
    "#dataframe sorted by index\n",
    "df.sort_index(axis=1,ascending=False)"
   ]
  },
  {
   "cell_type": "code",
   "execution_count": 148,
   "id": "f0b81fca",
   "metadata": {},
   "outputs": [
    {
     "data": {
      "text/html": [
       "<div>\n",
       "<style scoped>\n",
       "    .dataframe tbody tr th:only-of-type {\n",
       "        vertical-align: middle;\n",
       "    }\n",
       "\n",
       "    .dataframe tbody tr th {\n",
       "        vertical-align: top;\n",
       "    }\n",
       "\n",
       "    .dataframe thead th {\n",
       "        text-align: right;\n",
       "    }\n",
       "</style>\n",
       "<table border=\"1\" class=\"dataframe\">\n",
       "  <thead>\n",
       "    <tr style=\"text-align: right;\">\n",
       "      <th></th>\n",
       "      <th>A</th>\n",
       "      <th>B</th>\n",
       "      <th>C</th>\n",
       "      <th>D</th>\n",
       "    </tr>\n",
       "  </thead>\n",
       "  <tbody>\n",
       "    <tr>\n",
       "      <th>2022-06-01</th>\n",
       "      <td>0.405099</td>\n",
       "      <td>1.135329</td>\n",
       "      <td>-1.716557</td>\n",
       "      <td>-0.154345</td>\n",
       "    </tr>\n",
       "    <tr>\n",
       "      <th>2022-06-04</th>\n",
       "      <td>-0.241947</td>\n",
       "      <td>0.038210</td>\n",
       "      <td>-1.583139</td>\n",
       "      <td>0.589248</td>\n",
       "    </tr>\n",
       "    <tr>\n",
       "      <th>2022-06-02</th>\n",
       "      <td>0.540140</td>\n",
       "      <td>2.208615</td>\n",
       "      <td>-0.838454</td>\n",
       "      <td>1.732161</td>\n",
       "    </tr>\n",
       "    <tr>\n",
       "      <th>2022-06-06</th>\n",
       "      <td>1.230046</td>\n",
       "      <td>-0.183181</td>\n",
       "      <td>-0.819522</td>\n",
       "      <td>1.119959</td>\n",
       "    </tr>\n",
       "    <tr>\n",
       "      <th>2022-06-03</th>\n",
       "      <td>-1.105422</td>\n",
       "      <td>-0.225030</td>\n",
       "      <td>-0.564701</td>\n",
       "      <td>-0.710300</td>\n",
       "    </tr>\n",
       "    <tr>\n",
       "      <th>2022-06-09</th>\n",
       "      <td>0.266229</td>\n",
       "      <td>-0.479117</td>\n",
       "      <td>-0.306122</td>\n",
       "      <td>1.828267</td>\n",
       "    </tr>\n",
       "    <tr>\n",
       "      <th>2022-05-31</th>\n",
       "      <td>-0.928881</td>\n",
       "      <td>0.610048</td>\n",
       "      <td>0.103586</td>\n",
       "      <td>-0.286218</td>\n",
       "    </tr>\n",
       "    <tr>\n",
       "      <th>2022-06-05</th>\n",
       "      <td>0.266158</td>\n",
       "      <td>-1.397164</td>\n",
       "      <td>0.460312</td>\n",
       "      <td>0.353587</td>\n",
       "    </tr>\n",
       "    <tr>\n",
       "      <th>2022-06-07</th>\n",
       "      <td>-1.226685</td>\n",
       "      <td>-0.975312</td>\n",
       "      <td>0.887330</td>\n",
       "      <td>-1.237379</td>\n",
       "    </tr>\n",
       "    <tr>\n",
       "      <th>2022-06-08</th>\n",
       "      <td>-1.071320</td>\n",
       "      <td>-0.066131</td>\n",
       "      <td>1.046769</td>\n",
       "      <td>-1.118565</td>\n",
       "    </tr>\n",
       "  </tbody>\n",
       "</table>\n",
       "</div>"
      ],
      "text/plain": [
       "                   A         B         C         D\n",
       "2022-06-01  0.405099  1.135329 -1.716557 -0.154345\n",
       "2022-06-04 -0.241947  0.038210 -1.583139  0.589248\n",
       "2022-06-02  0.540140  2.208615 -0.838454  1.732161\n",
       "2022-06-06  1.230046 -0.183181 -0.819522  1.119959\n",
       "2022-06-03 -1.105422 -0.225030 -0.564701 -0.710300\n",
       "2022-06-09  0.266229 -0.479117 -0.306122  1.828267\n",
       "2022-05-31 -0.928881  0.610048  0.103586 -0.286218\n",
       "2022-06-05  0.266158 -1.397164  0.460312  0.353587\n",
       "2022-06-07 -1.226685 -0.975312  0.887330 -1.237379\n",
       "2022-06-08 -1.071320 -0.066131  1.046769 -1.118565"
      ]
     },
     "execution_count": 148,
     "metadata": {},
     "output_type": "execute_result"
    }
   ],
   "source": [
    "#dataframe sorted by values\n",
    "#it sort the dataframe depending on \"c\"\n",
    "df.sort_values(by=\"C\")"
   ]
  },
  {
   "cell_type": "code",
   "execution_count": 149,
   "id": "0a27e844",
   "metadata": {},
   "outputs": [
    {
     "data": {
      "text/plain": [
       "2022-05-31    0.103586\n",
       "2022-06-01   -1.716557\n",
       "2022-06-02   -0.838454\n",
       "2022-06-03   -0.564701\n",
       "2022-06-04   -1.583139\n",
       "2022-06-05    0.460312\n",
       "2022-06-06   -0.819522\n",
       "2022-06-07    0.887330\n",
       "2022-06-08    1.046769\n",
       "2022-06-09   -0.306122\n",
       "Freq: D, Name: C, dtype: float64"
      ]
     },
     "execution_count": 149,
     "metadata": {},
     "output_type": "execute_result"
    }
   ],
   "source": [
    "#to access only the single column\n",
    "df[\"C\"]"
   ]
  },
  {
   "cell_type": "code",
   "execution_count": 150,
   "id": "e86a4556",
   "metadata": {},
   "outputs": [
    {
     "data": {
      "text/html": [
       "<div>\n",
       "<style scoped>\n",
       "    .dataframe tbody tr th:only-of-type {\n",
       "        vertical-align: middle;\n",
       "    }\n",
       "\n",
       "    .dataframe tbody tr th {\n",
       "        vertical-align: top;\n",
       "    }\n",
       "\n",
       "    .dataframe thead th {\n",
       "        text-align: right;\n",
       "    }\n",
       "</style>\n",
       "<table border=\"1\" class=\"dataframe\">\n",
       "  <thead>\n",
       "    <tr style=\"text-align: right;\">\n",
       "      <th></th>\n",
       "      <th>A</th>\n",
       "      <th>B</th>\n",
       "      <th>C</th>\n",
       "      <th>D</th>\n",
       "    </tr>\n",
       "  </thead>\n",
       "  <tbody>\n",
       "    <tr>\n",
       "      <th>2022-05-31</th>\n",
       "      <td>-0.928881</td>\n",
       "      <td>0.610048</td>\n",
       "      <td>0.103586</td>\n",
       "      <td>-0.286218</td>\n",
       "    </tr>\n",
       "    <tr>\n",
       "      <th>2022-06-01</th>\n",
       "      <td>0.405099</td>\n",
       "      <td>1.135329</td>\n",
       "      <td>-1.716557</td>\n",
       "      <td>-0.154345</td>\n",
       "    </tr>\n",
       "    <tr>\n",
       "      <th>2022-06-02</th>\n",
       "      <td>0.540140</td>\n",
       "      <td>2.208615</td>\n",
       "      <td>-0.838454</td>\n",
       "      <td>1.732161</td>\n",
       "    </tr>\n",
       "  </tbody>\n",
       "</table>\n",
       "</div>"
      ],
      "text/plain": [
       "                   A         B         C         D\n",
       "2022-05-31 -0.928881  0.610048  0.103586 -0.286218\n",
       "2022-06-01  0.405099  1.135329 -1.716557 -0.154345\n",
       "2022-06-02  0.540140  2.208615 -0.838454  1.732161"
      ]
     },
     "execution_count": 150,
     "metadata": {},
     "output_type": "execute_result"
    }
   ],
   "source": [
    "#to slice the rows\n",
    "#it will give the 0'th row to 3rd row\n",
    "df[0:3]"
   ]
  },
  {
   "cell_type": "code",
   "execution_count": 151,
   "id": "c908fe56",
   "metadata": {},
   "outputs": [
    {
     "data": {
      "text/plain": [
       "A   -0.928881\n",
       "B    0.610048\n",
       "C    0.103586\n",
       "D   -0.286218\n",
       "Name: 2022-05-31 00:00:00, dtype: float64"
      ]
     },
     "execution_count": 151,
     "metadata": {},
     "output_type": "execute_result"
    }
   ],
   "source": [
    "#to select the data by using the labels\n",
    "#inside the loc method,we can pass the values by labels\n",
    "df.loc[d[0]]"
   ]
  },
  {
   "cell_type": "code",
   "execution_count": 152,
   "id": "1d86bcbd",
   "metadata": {},
   "outputs": [
    {
     "data": {
      "text/html": [
       "<div>\n",
       "<style scoped>\n",
       "    .dataframe tbody tr th:only-of-type {\n",
       "        vertical-align: middle;\n",
       "    }\n",
       "\n",
       "    .dataframe tbody tr th {\n",
       "        vertical-align: top;\n",
       "    }\n",
       "\n",
       "    .dataframe thead th {\n",
       "        text-align: right;\n",
       "    }\n",
       "</style>\n",
       "<table border=\"1\" class=\"dataframe\">\n",
       "  <thead>\n",
       "    <tr style=\"text-align: right;\">\n",
       "      <th></th>\n",
       "      <th>A</th>\n",
       "      <th>C</th>\n",
       "    </tr>\n",
       "  </thead>\n",
       "  <tbody>\n",
       "    <tr>\n",
       "      <th>2022-05-31</th>\n",
       "      <td>-0.928881</td>\n",
       "      <td>0.103586</td>\n",
       "    </tr>\n",
       "    <tr>\n",
       "      <th>2022-06-01</th>\n",
       "      <td>0.405099</td>\n",
       "      <td>-1.716557</td>\n",
       "    </tr>\n",
       "    <tr>\n",
       "      <th>2022-06-02</th>\n",
       "      <td>0.540140</td>\n",
       "      <td>-0.838454</td>\n",
       "    </tr>\n",
       "    <tr>\n",
       "      <th>2022-06-03</th>\n",
       "      <td>-1.105422</td>\n",
       "      <td>-0.564701</td>\n",
       "    </tr>\n",
       "    <tr>\n",
       "      <th>2022-06-04</th>\n",
       "      <td>-0.241947</td>\n",
       "      <td>-1.583139</td>\n",
       "    </tr>\n",
       "    <tr>\n",
       "      <th>2022-06-05</th>\n",
       "      <td>0.266158</td>\n",
       "      <td>0.460312</td>\n",
       "    </tr>\n",
       "    <tr>\n",
       "      <th>2022-06-06</th>\n",
       "      <td>1.230046</td>\n",
       "      <td>-0.819522</td>\n",
       "    </tr>\n",
       "    <tr>\n",
       "      <th>2022-06-07</th>\n",
       "      <td>-1.226685</td>\n",
       "      <td>0.887330</td>\n",
       "    </tr>\n",
       "    <tr>\n",
       "      <th>2022-06-08</th>\n",
       "      <td>-1.071320</td>\n",
       "      <td>1.046769</td>\n",
       "    </tr>\n",
       "    <tr>\n",
       "      <th>2022-06-09</th>\n",
       "      <td>0.266229</td>\n",
       "      <td>-0.306122</td>\n",
       "    </tr>\n",
       "  </tbody>\n",
       "</table>\n",
       "</div>"
      ],
      "text/plain": [
       "                   A         C\n",
       "2022-05-31 -0.928881  0.103586\n",
       "2022-06-01  0.405099 -1.716557\n",
       "2022-06-02  0.540140 -0.838454\n",
       "2022-06-03 -1.105422 -0.564701\n",
       "2022-06-04 -0.241947 -1.583139\n",
       "2022-06-05  0.266158  0.460312\n",
       "2022-06-06  1.230046 -0.819522\n",
       "2022-06-07 -1.226685  0.887330\n",
       "2022-06-08 -1.071320  1.046769\n",
       "2022-06-09  0.266229 -0.306122"
      ]
     },
     "execution_count": 152,
     "metadata": {},
     "output_type": "execute_result"
    }
   ],
   "source": [
    "#to selecting data on a multi axis by label\n",
    "df.loc[:,[\"A\",\"C\"]]"
   ]
  },
  {
   "cell_type": "code",
   "execution_count": 153,
   "id": "66bebc38",
   "metadata": {},
   "outputs": [
    {
     "data": {
      "text/html": [
       "<div>\n",
       "<style scoped>\n",
       "    .dataframe tbody tr th:only-of-type {\n",
       "        vertical-align: middle;\n",
       "    }\n",
       "\n",
       "    .dataframe tbody tr th {\n",
       "        vertical-align: top;\n",
       "    }\n",
       "\n",
       "    .dataframe thead th {\n",
       "        text-align: right;\n",
       "    }\n",
       "</style>\n",
       "<table border=\"1\" class=\"dataframe\">\n",
       "  <thead>\n",
       "    <tr style=\"text-align: right;\">\n",
       "      <th></th>\n",
       "      <th>D</th>\n",
       "      <th>C</th>\n",
       "    </tr>\n",
       "  </thead>\n",
       "  <tbody>\n",
       "    <tr>\n",
       "      <th>2022-05-31</th>\n",
       "      <td>-0.286218</td>\n",
       "      <td>0.103586</td>\n",
       "    </tr>\n",
       "    <tr>\n",
       "      <th>2022-06-01</th>\n",
       "      <td>-0.154345</td>\n",
       "      <td>-1.716557</td>\n",
       "    </tr>\n",
       "    <tr>\n",
       "      <th>2022-06-02</th>\n",
       "      <td>1.732161</td>\n",
       "      <td>-0.838454</td>\n",
       "    </tr>\n",
       "    <tr>\n",
       "      <th>2022-06-03</th>\n",
       "      <td>-0.710300</td>\n",
       "      <td>-0.564701</td>\n",
       "    </tr>\n",
       "    <tr>\n",
       "      <th>2022-06-04</th>\n",
       "      <td>0.589248</td>\n",
       "      <td>-1.583139</td>\n",
       "    </tr>\n",
       "  </tbody>\n",
       "</table>\n",
       "</div>"
      ],
      "text/plain": [
       "                   D         C\n",
       "2022-05-31 -0.286218  0.103586\n",
       "2022-06-01 -0.154345 -1.716557\n",
       "2022-06-02  1.732161 -0.838454\n",
       "2022-06-03 -0.710300 -0.564701\n",
       "2022-06-04  0.589248 -1.583139"
      ]
     },
     "execution_count": 153,
     "metadata": {},
     "output_type": "execute_result"
    }
   ],
   "source": [
    "#to get the data with in some range\n",
    "df.loc[\"20220531\":\"20220604\",[\"D\",\"C\"]]"
   ]
  },
  {
   "cell_type": "code",
   "execution_count": 154,
   "id": "fb6e07f1",
   "metadata": {},
   "outputs": [
    {
     "data": {
      "text/plain": [
       "D   -0.286218\n",
       "C    0.103586\n",
       "Name: 2022-05-31 00:00:00, dtype: float64"
      ]
     },
     "execution_count": 154,
     "metadata": {},
     "output_type": "execute_result"
    }
   ],
   "source": [
    "#to get single element from the dataframe\n",
    "df.loc[\"20220531\",[\"D\",\"C\"]]"
   ]
  },
  {
   "cell_type": "code",
   "execution_count": 155,
   "id": "f5046f21",
   "metadata": {},
   "outputs": [
    {
     "data": {
      "text/plain": [
       "D   -0.286218\n",
       "C    0.103586\n",
       "Name: 2022-05-31 00:00:00, dtype: float64"
      ]
     },
     "execution_count": 155,
     "metadata": {},
     "output_type": "execute_result"
    }
   ],
   "source": [
    "#to get single element from the dataframe\n",
    "df.loc[d[0],[\"D\",\"C\"]]"
   ]
  },
  {
   "cell_type": "code",
   "execution_count": 156,
   "id": "4779d831",
   "metadata": {},
   "outputs": [
    {
     "data": {
      "text/plain": [
       "0.10358615721200254"
      ]
     },
     "execution_count": 156,
     "metadata": {},
     "output_type": "execute_result"
    }
   ],
   "source": [
    "#to get exact value in 0'th index at column \"C\"\n",
    "df.at[d[0],\"C\"]"
   ]
  },
  {
   "cell_type": "code",
   "execution_count": 157,
   "id": "95294e89",
   "metadata": {},
   "outputs": [
    {
     "data": {
      "text/plain": [
       "A    0.361510\n",
       "B   -1.031936\n",
       "C    0.372669\n",
       "D    1.054596\n",
       "Name: 2022-06-03 00:00:00, dtype: float64"
      ]
     },
     "execution_count": 157,
     "metadata": {},
     "output_type": "execute_result"
    }
   ],
   "source": [
    "#selecting a value from using the position inside the dataframe\n",
    "#it will select all the value from the third position\n",
    "import pandas as pd\n",
    "import numpy as np\n",
    "d=pd.date_range(\"20220531\",periods=10)\n",
    "df=pd.DataFrame(np.random.randn(10,4),index=d,columns=[\"A\",\"B\",\"C\",\"D\"])\n",
    "df.iloc[3]"
   ]
  },
  {
   "cell_type": "code",
   "execution_count": 158,
   "id": "4d591ebd",
   "metadata": {},
   "outputs": [
    {
     "data": {
      "text/html": [
       "<div>\n",
       "<style scoped>\n",
       "    .dataframe tbody tr th:only-of-type {\n",
       "        vertical-align: middle;\n",
       "    }\n",
       "\n",
       "    .dataframe tbody tr th {\n",
       "        vertical-align: top;\n",
       "    }\n",
       "\n",
       "    .dataframe thead th {\n",
       "        text-align: right;\n",
       "    }\n",
       "</style>\n",
       "<table border=\"1\" class=\"dataframe\">\n",
       "  <thead>\n",
       "    <tr style=\"text-align: right;\">\n",
       "      <th></th>\n",
       "      <th>A</th>\n",
       "      <th>B</th>\n",
       "      <th>C</th>\n",
       "      <th>D</th>\n",
       "    </tr>\n",
       "  </thead>\n",
       "  <tbody>\n",
       "    <tr>\n",
       "      <th>2022-06-03</th>\n",
       "      <td>0.361510</td>\n",
       "      <td>-1.031936</td>\n",
       "      <td>0.372669</td>\n",
       "      <td>1.054596</td>\n",
       "    </tr>\n",
       "    <tr>\n",
       "      <th>2022-06-04</th>\n",
       "      <td>-0.692438</td>\n",
       "      <td>2.036730</td>\n",
       "      <td>0.416988</td>\n",
       "      <td>-0.780231</td>\n",
       "    </tr>\n",
       "  </tbody>\n",
       "</table>\n",
       "</div>"
      ],
      "text/plain": [
       "                   A         B         C         D\n",
       "2022-06-03  0.361510 -1.031936  0.372669  1.054596\n",
       "2022-06-04 -0.692438  2.036730  0.416988 -0.780231"
      ]
     },
     "execution_count": 158,
     "metadata": {},
     "output_type": "execute_result"
    }
   ],
   "source": [
    "#to select the values in third and fourth position\n",
    "df.iloc[3:5]"
   ]
  },
  {
   "cell_type": "code",
   "execution_count": 159,
   "id": "ea7b7b6e",
   "metadata": {},
   "outputs": [
    {
     "data": {
      "text/html": [
       "<div>\n",
       "<style scoped>\n",
       "    .dataframe tbody tr th:only-of-type {\n",
       "        vertical-align: middle;\n",
       "    }\n",
       "\n",
       "    .dataframe tbody tr th {\n",
       "        vertical-align: top;\n",
       "    }\n",
       "\n",
       "    .dataframe thead th {\n",
       "        text-align: right;\n",
       "    }\n",
       "</style>\n",
       "<table border=\"1\" class=\"dataframe\">\n",
       "  <thead>\n",
       "    <tr style=\"text-align: right;\">\n",
       "      <th></th>\n",
       "      <th>A</th>\n",
       "      <th>B</th>\n",
       "    </tr>\n",
       "  </thead>\n",
       "  <tbody>\n",
       "    <tr>\n",
       "      <th>2022-06-03</th>\n",
       "      <td>0.361510</td>\n",
       "      <td>-1.031936</td>\n",
       "    </tr>\n",
       "    <tr>\n",
       "      <th>2022-06-04</th>\n",
       "      <td>-0.692438</td>\n",
       "      <td>2.036730</td>\n",
       "    </tr>\n",
       "  </tbody>\n",
       "</table>\n",
       "</div>"
      ],
      "text/plain": [
       "                   A         B\n",
       "2022-06-03  0.361510 -1.031936\n",
       "2022-06-04 -0.692438  2.036730"
      ]
     },
     "execution_count": 159,
     "metadata": {},
     "output_type": "execute_result"
    }
   ],
   "source": [
    "#to select the value which is in 3rd to 4rth row, and it only include the column start with 0 and end with 2\n",
    "df.iloc[3:5,0:2]"
   ]
  },
  {
   "cell_type": "code",
   "execution_count": 160,
   "id": "21384e8a",
   "metadata": {},
   "outputs": [
    {
     "data": {
      "text/html": [
       "<div>\n",
       "<style scoped>\n",
       "    .dataframe tbody tr th:only-of-type {\n",
       "        vertical-align: middle;\n",
       "    }\n",
       "\n",
       "    .dataframe tbody tr th {\n",
       "        vertical-align: top;\n",
       "    }\n",
       "\n",
       "    .dataframe thead th {\n",
       "        text-align: right;\n",
       "    }\n",
       "</style>\n",
       "<table border=\"1\" class=\"dataframe\">\n",
       "  <thead>\n",
       "    <tr style=\"text-align: right;\">\n",
       "      <th></th>\n",
       "      <th>A</th>\n",
       "      <th>B</th>\n",
       "      <th>C</th>\n",
       "      <th>D</th>\n",
       "    </tr>\n",
       "  </thead>\n",
       "  <tbody>\n",
       "    <tr>\n",
       "      <th>2022-06-01</th>\n",
       "      <td>1.629382</td>\n",
       "      <td>2.255401</td>\n",
       "      <td>-0.472197</td>\n",
       "      <td>-0.064553</td>\n",
       "    </tr>\n",
       "    <tr>\n",
       "      <th>2022-06-02</th>\n",
       "      <td>1.104652</td>\n",
       "      <td>2.360129</td>\n",
       "      <td>0.090976</td>\n",
       "      <td>-0.811329</td>\n",
       "    </tr>\n",
       "    <tr>\n",
       "      <th>2022-06-03</th>\n",
       "      <td>0.361510</td>\n",
       "      <td>-1.031936</td>\n",
       "      <td>0.372669</td>\n",
       "      <td>1.054596</td>\n",
       "    </tr>\n",
       "    <tr>\n",
       "      <th>2022-06-05</th>\n",
       "      <td>1.744032</td>\n",
       "      <td>-0.573721</td>\n",
       "      <td>0.167822</td>\n",
       "      <td>0.347455</td>\n",
       "    </tr>\n",
       "    <tr>\n",
       "      <th>2022-06-08</th>\n",
       "      <td>0.320139</td>\n",
       "      <td>1.763010</td>\n",
       "      <td>0.720953</td>\n",
       "      <td>-1.533287</td>\n",
       "    </tr>\n",
       "  </tbody>\n",
       "</table>\n",
       "</div>"
      ],
      "text/plain": [
       "                   A         B         C         D\n",
       "2022-06-01  1.629382  2.255401 -0.472197 -0.064553\n",
       "2022-06-02  1.104652  2.360129  0.090976 -0.811329\n",
       "2022-06-03  0.361510 -1.031936  0.372669  1.054596\n",
       "2022-06-05  1.744032 -0.573721  0.167822  0.347455\n",
       "2022-06-08  0.320139  1.763010  0.720953 -1.533287"
      ]
     },
     "execution_count": 160,
     "metadata": {},
     "output_type": "execute_result"
    }
   ],
   "source": [
    "#boolean indexing\n",
    "#it will show the values in \"A\" which is greater than \"0\"\n",
    "df[df[\"A\"]>0]"
   ]
  },
  {
   "cell_type": "code",
   "execution_count": 161,
   "id": "09a99640",
   "metadata": {},
   "outputs": [
    {
     "data": {
      "text/html": [
       "<div>\n",
       "<style scoped>\n",
       "    .dataframe tbody tr th:only-of-type {\n",
       "        vertical-align: middle;\n",
       "    }\n",
       "\n",
       "    .dataframe tbody tr th {\n",
       "        vertical-align: top;\n",
       "    }\n",
       "\n",
       "    .dataframe thead th {\n",
       "        text-align: right;\n",
       "    }\n",
       "</style>\n",
       "<table border=\"1\" class=\"dataframe\">\n",
       "  <thead>\n",
       "    <tr style=\"text-align: right;\">\n",
       "      <th></th>\n",
       "      <th>A</th>\n",
       "      <th>B</th>\n",
       "      <th>C</th>\n",
       "      <th>D</th>\n",
       "    </tr>\n",
       "  </thead>\n",
       "  <tbody>\n",
       "  </tbody>\n",
       "</table>\n",
       "</div>"
      ],
      "text/plain": [
       "Empty DataFrame\n",
       "Columns: [A, B, C, D]\n",
       "Index: []"
      ]
     },
     "execution_count": 161,
     "metadata": {},
     "output_type": "execute_result"
    }
   ],
   "source": [
    "df[df[\"A\"]>2]"
   ]
  },
  {
   "cell_type": "code",
   "execution_count": 162,
   "id": "9b092c9b",
   "metadata": {},
   "outputs": [
    {
     "data": {
      "text/html": [
       "<div>\n",
       "<style scoped>\n",
       "    .dataframe tbody tr th:only-of-type {\n",
       "        vertical-align: middle;\n",
       "    }\n",
       "\n",
       "    .dataframe tbody tr th {\n",
       "        vertical-align: top;\n",
       "    }\n",
       "\n",
       "    .dataframe thead th {\n",
       "        text-align: right;\n",
       "    }\n",
       "</style>\n",
       "<table border=\"1\" class=\"dataframe\">\n",
       "  <thead>\n",
       "    <tr style=\"text-align: right;\">\n",
       "      <th></th>\n",
       "      <th>A</th>\n",
       "      <th>B</th>\n",
       "      <th>C</th>\n",
       "      <th>D</th>\n",
       "    </tr>\n",
       "  </thead>\n",
       "  <tbody>\n",
       "  </tbody>\n",
       "</table>\n",
       "</div>"
      ],
      "text/plain": [
       "Empty DataFrame\n",
       "Columns: [A, B, C, D]\n",
       "Index: []"
      ]
     },
     "execution_count": 162,
     "metadata": {},
     "output_type": "execute_result"
    }
   ],
   "source": [
    "df[df[\"A\"]>3]"
   ]
  },
  {
   "cell_type": "code",
   "execution_count": 163,
   "id": "493eeb55",
   "metadata": {},
   "outputs": [
    {
     "data": {
      "text/html": [
       "<div>\n",
       "<style scoped>\n",
       "    .dataframe tbody tr th:only-of-type {\n",
       "        vertical-align: middle;\n",
       "    }\n",
       "\n",
       "    .dataframe tbody tr th {\n",
       "        vertical-align: top;\n",
       "    }\n",
       "\n",
       "    .dataframe thead th {\n",
       "        text-align: right;\n",
       "    }\n",
       "</style>\n",
       "<table border=\"1\" class=\"dataframe\">\n",
       "  <thead>\n",
       "    <tr style=\"text-align: right;\">\n",
       "      <th></th>\n",
       "      <th>A</th>\n",
       "      <th>B</th>\n",
       "      <th>C</th>\n",
       "      <th>D</th>\n",
       "      <th>E</th>\n",
       "    </tr>\n",
       "  </thead>\n",
       "  <tbody>\n",
       "    <tr>\n",
       "      <th>2022-05-31</th>\n",
       "      <td>-1.029249</td>\n",
       "      <td>0.104053</td>\n",
       "      <td>-1.294157</td>\n",
       "      <td>0.219284</td>\n",
       "      <td>1.0</td>\n",
       "    </tr>\n",
       "    <tr>\n",
       "      <th>2022-06-01</th>\n",
       "      <td>1.629382</td>\n",
       "      <td>2.255401</td>\n",
       "      <td>-0.472197</td>\n",
       "      <td>-0.064553</td>\n",
       "      <td>1.0</td>\n",
       "    </tr>\n",
       "    <tr>\n",
       "      <th>2022-06-02</th>\n",
       "      <td>1.104652</td>\n",
       "      <td>2.360129</td>\n",
       "      <td>0.090976</td>\n",
       "      <td>-0.811329</td>\n",
       "      <td>NaN</td>\n",
       "    </tr>\n",
       "    <tr>\n",
       "      <th>2022-06-03</th>\n",
       "      <td>0.361510</td>\n",
       "      <td>-1.031936</td>\n",
       "      <td>0.372669</td>\n",
       "      <td>1.054596</td>\n",
       "      <td>NaN</td>\n",
       "    </tr>\n",
       "  </tbody>\n",
       "</table>\n",
       "</div>"
      ],
      "text/plain": [
       "                   A         B         C         D    E\n",
       "2022-05-31 -1.029249  0.104053 -1.294157  0.219284  1.0\n",
       "2022-06-01  1.629382  2.255401 -0.472197 -0.064553  1.0\n",
       "2022-06-02  1.104652  2.360129  0.090976 -0.811329  NaN\n",
       "2022-06-03  0.361510 -1.031936  0.372669  1.054596  NaN"
      ]
     },
     "execution_count": 163,
     "metadata": {},
     "output_type": "execute_result"
    }
   ],
   "source": [
    "#handling the missing values \n",
    "df2=df.reindex(index=d[0:4],columns=list(df.columns)+[\"E\"])\n",
    "df2.loc[d[0]:d[1],\"E\"]=1\n",
    "df2"
   ]
  },
  {
   "cell_type": "code",
   "execution_count": 164,
   "id": "cd01d1c0",
   "metadata": {},
   "outputs": [
    {
     "data": {
      "text/html": [
       "<div>\n",
       "<style scoped>\n",
       "    .dataframe tbody tr th:only-of-type {\n",
       "        vertical-align: middle;\n",
       "    }\n",
       "\n",
       "    .dataframe tbody tr th {\n",
       "        vertical-align: top;\n",
       "    }\n",
       "\n",
       "    .dataframe thead th {\n",
       "        text-align: right;\n",
       "    }\n",
       "</style>\n",
       "<table border=\"1\" class=\"dataframe\">\n",
       "  <thead>\n",
       "    <tr style=\"text-align: right;\">\n",
       "      <th></th>\n",
       "      <th>A</th>\n",
       "      <th>B</th>\n",
       "      <th>C</th>\n",
       "      <th>D</th>\n",
       "      <th>E</th>\n",
       "    </tr>\n",
       "  </thead>\n",
       "  <tbody>\n",
       "    <tr>\n",
       "      <th>2022-05-31</th>\n",
       "      <td>False</td>\n",
       "      <td>False</td>\n",
       "      <td>False</td>\n",
       "      <td>False</td>\n",
       "      <td>False</td>\n",
       "    </tr>\n",
       "    <tr>\n",
       "      <th>2022-06-01</th>\n",
       "      <td>False</td>\n",
       "      <td>False</td>\n",
       "      <td>False</td>\n",
       "      <td>False</td>\n",
       "      <td>False</td>\n",
       "    </tr>\n",
       "    <tr>\n",
       "      <th>2022-06-02</th>\n",
       "      <td>False</td>\n",
       "      <td>False</td>\n",
       "      <td>False</td>\n",
       "      <td>False</td>\n",
       "      <td>True</td>\n",
       "    </tr>\n",
       "    <tr>\n",
       "      <th>2022-06-03</th>\n",
       "      <td>False</td>\n",
       "      <td>False</td>\n",
       "      <td>False</td>\n",
       "      <td>False</td>\n",
       "      <td>True</td>\n",
       "    </tr>\n",
       "  </tbody>\n",
       "</table>\n",
       "</div>"
      ],
      "text/plain": [
       "                A      B      C      D      E\n",
       "2022-05-31  False  False  False  False  False\n",
       "2022-06-01  False  False  False  False  False\n",
       "2022-06-02  False  False  False  False   True\n",
       "2022-06-03  False  False  False  False   True"
      ]
     },
     "execution_count": 164,
     "metadata": {},
     "output_type": "execute_result"
    }
   ],
   "source": [
    "#to check the null values \n",
    "df2.isnull()"
   ]
  },
  {
   "cell_type": "code",
   "execution_count": 165,
   "id": "5772608a",
   "metadata": {},
   "outputs": [
    {
     "data": {
      "text/html": [
       "<div>\n",
       "<style scoped>\n",
       "    .dataframe tbody tr th:only-of-type {\n",
       "        vertical-align: middle;\n",
       "    }\n",
       "\n",
       "    .dataframe tbody tr th {\n",
       "        vertical-align: top;\n",
       "    }\n",
       "\n",
       "    .dataframe thead th {\n",
       "        text-align: right;\n",
       "    }\n",
       "</style>\n",
       "<table border=\"1\" class=\"dataframe\">\n",
       "  <thead>\n",
       "    <tr style=\"text-align: right;\">\n",
       "      <th></th>\n",
       "      <th>A</th>\n",
       "      <th>B</th>\n",
       "      <th>C</th>\n",
       "      <th>D</th>\n",
       "      <th>E</th>\n",
       "    </tr>\n",
       "  </thead>\n",
       "  <tbody>\n",
       "    <tr>\n",
       "      <th>2022-05-31</th>\n",
       "      <td>-1.029249</td>\n",
       "      <td>0.104053</td>\n",
       "      <td>-1.294157</td>\n",
       "      <td>0.219284</td>\n",
       "      <td>1.0</td>\n",
       "    </tr>\n",
       "    <tr>\n",
       "      <th>2022-06-01</th>\n",
       "      <td>1.629382</td>\n",
       "      <td>2.255401</td>\n",
       "      <td>-0.472197</td>\n",
       "      <td>-0.064553</td>\n",
       "      <td>1.0</td>\n",
       "    </tr>\n",
       "  </tbody>\n",
       "</table>\n",
       "</div>"
      ],
      "text/plain": [
       "                   A         B         C         D    E\n",
       "2022-05-31 -1.029249  0.104053 -1.294157  0.219284  1.0\n",
       "2022-06-01  1.629382  2.255401 -0.472197 -0.064553  1.0"
      ]
     },
     "execution_count": 165,
     "metadata": {},
     "output_type": "execute_result"
    }
   ],
   "source": [
    "#to drop the column \n",
    "#it will drop the null values presented in a dataframe\n",
    "df2.dropna()"
   ]
  },
  {
   "cell_type": "code",
   "execution_count": 166,
   "id": "5bb2fd5a",
   "metadata": {},
   "outputs": [
    {
     "data": {
      "text/plain": [
       "A    0.013135\n",
       "B    0.221338\n",
       "C   -0.240865\n",
       "D   -0.175060\n",
       "dtype: float64"
      ]
     },
     "execution_count": 166,
     "metadata": {},
     "output_type": "execute_result"
    }
   ],
   "source": [
    "#fill the missing data\n",
    "#to find the mean\n",
    "df.mean()"
   ]
  },
  {
   "cell_type": "code",
   "execution_count": 167,
   "id": "e01f3116",
   "metadata": {},
   "outputs": [
    {
     "data": {
      "text/plain": [
       "2022-05-31    NaN\n",
       "2022-06-01    NaN\n",
       "2022-06-02    1.0\n",
       "2022-06-03    2.0\n",
       "2022-06-04    3.0\n",
       "2022-06-05    NaN\n",
       "2022-06-06    4.0\n",
       "2022-06-07    5.0\n",
       "2022-06-08    6.0\n",
       "2022-06-09    7.0\n",
       "Freq: D, dtype: float64"
      ]
     },
     "execution_count": 167,
     "metadata": {},
     "output_type": "execute_result"
    }
   ],
   "source": [
    "s=pd.Series([1,2,3,np.nan,4,5,6,7,8,9],index=d).shift(2)\n",
    "s"
   ]
  },
  {
   "cell_type": "code",
   "execution_count": 168,
   "id": "2e4bace4",
   "metadata": {},
   "outputs": [
    {
     "data": {
      "text/html": [
       "<div>\n",
       "<style scoped>\n",
       "    .dataframe tbody tr th:only-of-type {\n",
       "        vertical-align: middle;\n",
       "    }\n",
       "\n",
       "    .dataframe tbody tr th {\n",
       "        vertical-align: top;\n",
       "    }\n",
       "\n",
       "    .dataframe thead th {\n",
       "        text-align: right;\n",
       "    }\n",
       "</style>\n",
       "<table border=\"1\" class=\"dataframe\">\n",
       "  <thead>\n",
       "    <tr style=\"text-align: right;\">\n",
       "      <th></th>\n",
       "      <th>A</th>\n",
       "      <th>B</th>\n",
       "      <th>C</th>\n",
       "      <th>D</th>\n",
       "    </tr>\n",
       "  </thead>\n",
       "  <tbody>\n",
       "    <tr>\n",
       "      <th>2022-05-31</th>\n",
       "      <td>NaN</td>\n",
       "      <td>NaN</td>\n",
       "      <td>NaN</td>\n",
       "      <td>NaN</td>\n",
       "    </tr>\n",
       "    <tr>\n",
       "      <th>2022-06-01</th>\n",
       "      <td>NaN</td>\n",
       "      <td>NaN</td>\n",
       "      <td>NaN</td>\n",
       "      <td>NaN</td>\n",
       "    </tr>\n",
       "    <tr>\n",
       "      <th>2022-06-02</th>\n",
       "      <td>0.104652</td>\n",
       "      <td>1.360129</td>\n",
       "      <td>-0.909024</td>\n",
       "      <td>-1.811329</td>\n",
       "    </tr>\n",
       "    <tr>\n",
       "      <th>2022-06-03</th>\n",
       "      <td>-1.638490</td>\n",
       "      <td>-3.031936</td>\n",
       "      <td>-1.627331</td>\n",
       "      <td>-0.945404</td>\n",
       "    </tr>\n",
       "    <tr>\n",
       "      <th>2022-06-04</th>\n",
       "      <td>-3.692438</td>\n",
       "      <td>-0.963270</td>\n",
       "      <td>-2.583012</td>\n",
       "      <td>-3.780231</td>\n",
       "    </tr>\n",
       "    <tr>\n",
       "      <th>2022-06-05</th>\n",
       "      <td>NaN</td>\n",
       "      <td>NaN</td>\n",
       "      <td>NaN</td>\n",
       "      <td>NaN</td>\n",
       "    </tr>\n",
       "    <tr>\n",
       "      <th>2022-06-06</th>\n",
       "      <td>-4.788722</td>\n",
       "      <td>-4.398743</td>\n",
       "      <td>-5.033770</td>\n",
       "      <td>-5.161252</td>\n",
       "    </tr>\n",
       "    <tr>\n",
       "      <th>2022-06-07</th>\n",
       "      <td>-6.330796</td>\n",
       "      <td>-8.613842</td>\n",
       "      <td>-4.385289</td>\n",
       "      <td>-3.690999</td>\n",
       "    </tr>\n",
       "    <tr>\n",
       "      <th>2022-06-08</th>\n",
       "      <td>-5.679861</td>\n",
       "      <td>-4.236990</td>\n",
       "      <td>-5.279047</td>\n",
       "      <td>-7.533287</td>\n",
       "    </tr>\n",
       "    <tr>\n",
       "      <th>2022-06-09</th>\n",
       "      <td>-8.187157</td>\n",
       "      <td>-7.687702</td>\n",
       "      <td>-8.992647</td>\n",
       "      <td>-7.330287</td>\n",
       "    </tr>\n",
       "  </tbody>\n",
       "</table>\n",
       "</div>"
      ],
      "text/plain": [
       "                   A         B         C         D\n",
       "2022-05-31       NaN       NaN       NaN       NaN\n",
       "2022-06-01       NaN       NaN       NaN       NaN\n",
       "2022-06-02  0.104652  1.360129 -0.909024 -1.811329\n",
       "2022-06-03 -1.638490 -3.031936 -1.627331 -0.945404\n",
       "2022-06-04 -3.692438 -0.963270 -2.583012 -3.780231\n",
       "2022-06-05       NaN       NaN       NaN       NaN\n",
       "2022-06-06 -4.788722 -4.398743 -5.033770 -5.161252\n",
       "2022-06-07 -6.330796 -8.613842 -4.385289 -3.690999\n",
       "2022-06-08 -5.679861 -4.236990 -5.279047 -7.533287\n",
       "2022-06-09 -8.187157 -7.687702 -8.992647 -7.330287"
      ]
     },
     "execution_count": 168,
     "metadata": {},
     "output_type": "execute_result"
    }
   ],
   "source": [
    "#it subtract all elemens of df by 5\n",
    "df.sub(s,axis=\"index\")"
   ]
  },
  {
   "cell_type": "code",
   "execution_count": 169,
   "id": "ad416172",
   "metadata": {},
   "outputs": [
    {
     "data": {
      "text/html": [
       "<div>\n",
       "<style scoped>\n",
       "    .dataframe tbody tr th:only-of-type {\n",
       "        vertical-align: middle;\n",
       "    }\n",
       "\n",
       "    .dataframe tbody tr th {\n",
       "        vertical-align: top;\n",
       "    }\n",
       "\n",
       "    .dataframe thead th {\n",
       "        text-align: right;\n",
       "    }\n",
       "</style>\n",
       "<table border=\"1\" class=\"dataframe\">\n",
       "  <thead>\n",
       "    <tr style=\"text-align: right;\">\n",
       "      <th></th>\n",
       "      <th>A</th>\n",
       "      <th>B</th>\n",
       "      <th>C</th>\n",
       "      <th>D</th>\n",
       "    </tr>\n",
       "  </thead>\n",
       "  <tbody>\n",
       "    <tr>\n",
       "      <th>2022-05-31</th>\n",
       "      <td>-1.029249</td>\n",
       "      <td>0.104053</td>\n",
       "      <td>-1.294157</td>\n",
       "      <td>0.219284</td>\n",
       "    </tr>\n",
       "    <tr>\n",
       "      <th>2022-06-01</th>\n",
       "      <td>1.629382</td>\n",
       "      <td>2.255401</td>\n",
       "      <td>-0.472197</td>\n",
       "      <td>-0.064553</td>\n",
       "    </tr>\n",
       "    <tr>\n",
       "      <th>2022-06-02</th>\n",
       "      <td>1.104652</td>\n",
       "      <td>2.360129</td>\n",
       "      <td>0.090976</td>\n",
       "      <td>-0.811329</td>\n",
       "    </tr>\n",
       "    <tr>\n",
       "      <th>2022-06-03</th>\n",
       "      <td>0.361510</td>\n",
       "      <td>-1.031936</td>\n",
       "      <td>0.372669</td>\n",
       "      <td>1.054596</td>\n",
       "    </tr>\n",
       "    <tr>\n",
       "      <th>2022-06-04</th>\n",
       "      <td>-0.692438</td>\n",
       "      <td>2.036730</td>\n",
       "      <td>0.416988</td>\n",
       "      <td>-0.780231</td>\n",
       "    </tr>\n",
       "    <tr>\n",
       "      <th>2022-06-05</th>\n",
       "      <td>1.744032</td>\n",
       "      <td>-0.573721</td>\n",
       "      <td>0.167822</td>\n",
       "      <td>0.347455</td>\n",
       "    </tr>\n",
       "    <tr>\n",
       "      <th>2022-06-06</th>\n",
       "      <td>-0.788722</td>\n",
       "      <td>-0.398743</td>\n",
       "      <td>-1.033770</td>\n",
       "      <td>-1.161252</td>\n",
       "    </tr>\n",
       "    <tr>\n",
       "      <th>2022-06-07</th>\n",
       "      <td>-1.330796</td>\n",
       "      <td>-3.613842</td>\n",
       "      <td>0.614711</td>\n",
       "      <td>1.309001</td>\n",
       "    </tr>\n",
       "    <tr>\n",
       "      <th>2022-06-08</th>\n",
       "      <td>0.320139</td>\n",
       "      <td>1.763010</td>\n",
       "      <td>0.720953</td>\n",
       "      <td>-1.533287</td>\n",
       "    </tr>\n",
       "    <tr>\n",
       "      <th>2022-06-09</th>\n",
       "      <td>-1.187157</td>\n",
       "      <td>-0.687702</td>\n",
       "      <td>-1.992647</td>\n",
       "      <td>-0.330287</td>\n",
       "    </tr>\n",
       "  </tbody>\n",
       "</table>\n",
       "</div>"
      ],
      "text/plain": [
       "                   A         B         C         D\n",
       "2022-05-31 -1.029249  0.104053 -1.294157  0.219284\n",
       "2022-06-01  1.629382  2.255401 -0.472197 -0.064553\n",
       "2022-06-02  1.104652  2.360129  0.090976 -0.811329\n",
       "2022-06-03  0.361510 -1.031936  0.372669  1.054596\n",
       "2022-06-04 -0.692438  2.036730  0.416988 -0.780231\n",
       "2022-06-05  1.744032 -0.573721  0.167822  0.347455\n",
       "2022-06-06 -0.788722 -0.398743 -1.033770 -1.161252\n",
       "2022-06-07 -1.330796 -3.613842  0.614711  1.309001\n",
       "2022-06-08  0.320139  1.763010  0.720953 -1.533287\n",
       "2022-06-09 -1.187157 -0.687702 -1.992647 -0.330287"
      ]
     },
     "execution_count": 169,
     "metadata": {},
     "output_type": "execute_result"
    }
   ],
   "source": [
    "df"
   ]
  },
  {
   "cell_type": "code",
   "execution_count": 170,
   "id": "d03a9b22",
   "metadata": {},
   "outputs": [
    {
     "data": {
      "text/html": [
       "<div>\n",
       "<style scoped>\n",
       "    .dataframe tbody tr th:only-of-type {\n",
       "        vertical-align: middle;\n",
       "    }\n",
       "\n",
       "    .dataframe tbody tr th {\n",
       "        vertical-align: top;\n",
       "    }\n",
       "\n",
       "    .dataframe thead th {\n",
       "        text-align: right;\n",
       "    }\n",
       "</style>\n",
       "<table border=\"1\" class=\"dataframe\">\n",
       "  <thead>\n",
       "    <tr style=\"text-align: right;\">\n",
       "      <th></th>\n",
       "      <th>A</th>\n",
       "      <th>B</th>\n",
       "      <th>C</th>\n",
       "      <th>D</th>\n",
       "    </tr>\n",
       "  </thead>\n",
       "  <tbody>\n",
       "    <tr>\n",
       "      <th>2022-05-31</th>\n",
       "      <td>-1.029249</td>\n",
       "      <td>0.104053</td>\n",
       "      <td>-1.294157</td>\n",
       "      <td>0.219284</td>\n",
       "    </tr>\n",
       "    <tr>\n",
       "      <th>2022-06-01</th>\n",
       "      <td>0.600134</td>\n",
       "      <td>2.359454</td>\n",
       "      <td>-1.766354</td>\n",
       "      <td>0.154731</td>\n",
       "    </tr>\n",
       "    <tr>\n",
       "      <th>2022-06-02</th>\n",
       "      <td>1.704785</td>\n",
       "      <td>4.719583</td>\n",
       "      <td>-1.675379</td>\n",
       "      <td>-0.656598</td>\n",
       "    </tr>\n",
       "    <tr>\n",
       "      <th>2022-06-03</th>\n",
       "      <td>2.066295</td>\n",
       "      <td>3.687648</td>\n",
       "      <td>-1.302709</td>\n",
       "      <td>0.397998</td>\n",
       "    </tr>\n",
       "    <tr>\n",
       "      <th>2022-06-04</th>\n",
       "      <td>1.373857</td>\n",
       "      <td>5.724378</td>\n",
       "      <td>-0.885722</td>\n",
       "      <td>-0.382233</td>\n",
       "    </tr>\n",
       "    <tr>\n",
       "      <th>2022-06-05</th>\n",
       "      <td>3.117890</td>\n",
       "      <td>5.150657</td>\n",
       "      <td>-0.717900</td>\n",
       "      <td>-0.034778</td>\n",
       "    </tr>\n",
       "    <tr>\n",
       "      <th>2022-06-06</th>\n",
       "      <td>2.329167</td>\n",
       "      <td>4.751914</td>\n",
       "      <td>-1.751670</td>\n",
       "      <td>-1.196030</td>\n",
       "    </tr>\n",
       "    <tr>\n",
       "      <th>2022-06-07</th>\n",
       "      <td>0.998372</td>\n",
       "      <td>1.138072</td>\n",
       "      <td>-1.136959</td>\n",
       "      <td>0.112971</td>\n",
       "    </tr>\n",
       "    <tr>\n",
       "      <th>2022-06-08</th>\n",
       "      <td>1.318511</td>\n",
       "      <td>2.901082</td>\n",
       "      <td>-0.416007</td>\n",
       "      <td>-1.420316</td>\n",
       "    </tr>\n",
       "    <tr>\n",
       "      <th>2022-06-09</th>\n",
       "      <td>0.131354</td>\n",
       "      <td>2.213380</td>\n",
       "      <td>-2.408654</td>\n",
       "      <td>-1.750603</td>\n",
       "    </tr>\n",
       "  </tbody>\n",
       "</table>\n",
       "</div>"
      ],
      "text/plain": [
       "                   A         B         C         D\n",
       "2022-05-31 -1.029249  0.104053 -1.294157  0.219284\n",
       "2022-06-01  0.600134  2.359454 -1.766354  0.154731\n",
       "2022-06-02  1.704785  4.719583 -1.675379 -0.656598\n",
       "2022-06-03  2.066295  3.687648 -1.302709  0.397998\n",
       "2022-06-04  1.373857  5.724378 -0.885722 -0.382233\n",
       "2022-06-05  3.117890  5.150657 -0.717900 -0.034778\n",
       "2022-06-06  2.329167  4.751914 -1.751670 -1.196030\n",
       "2022-06-07  0.998372  1.138072 -1.136959  0.112971\n",
       "2022-06-08  1.318511  2.901082 -0.416007 -1.420316\n",
       "2022-06-09  0.131354  2.213380 -2.408654 -1.750603"
      ]
     },
     "execution_count": 170,
     "metadata": {},
     "output_type": "execute_result"
    }
   ],
   "source": [
    "#to apply some functions \n",
    "#cumsum is used to find the cumulative sum value over any axis \n",
    "df.apply(np.cumsum)"
   ]
  },
  {
   "cell_type": "code",
   "execution_count": 171,
   "id": "0402de18",
   "metadata": {},
   "outputs": [
    {
     "data": {
      "text/plain": [
       "A    3.074828\n",
       "B    5.973971\n",
       "C    2.713600\n",
       "D    2.842287\n",
       "dtype: float64"
      ]
     },
     "execution_count": 171,
     "metadata": {},
     "output_type": "execute_result"
    }
   ],
   "source": [
    "#lambda function will take any number of arguements but can only have one expression \n",
    "#it give the subtraction of x.max and x.min\n",
    "df.apply(lambda x:x.max()-x.min())"
   ]
  },
  {
   "cell_type": "code",
   "execution_count": 172,
   "id": "48cb59b6",
   "metadata": {},
   "outputs": [
    {
     "data": {
      "text/plain": [
       "1.0    1\n",
       "2.0    1\n",
       "3.0    1\n",
       "4.0    1\n",
       "5.0    1\n",
       "6.0    1\n",
       "7.0    1\n",
       "dtype: int64"
      ]
     },
     "execution_count": 172,
     "metadata": {},
     "output_type": "execute_result"
    }
   ],
   "source": [
    "#histograms ---histogram is a representation of distribution of data\n",
    "#the value_counts() function returns a series that contain counts of unique values \n",
    "s.value_counts()"
   ]
  },
  {
   "cell_type": "code",
   "execution_count": 173,
   "id": "c60981f0",
   "metadata": {},
   "outputs": [
    {
     "data": {
      "text/plain": [
       "0     PANDAS\n",
       "1     PYTHON\n",
       "2    JUPYTER\n",
       "3        NaN\n",
       "4       JAVA\n",
       "5      COLAB\n",
       "dtype: object"
      ]
     },
     "execution_count": 173,
     "metadata": {},
     "output_type": "execute_result"
    }
   ],
   "source": [
    "s=pd.Series([\"pandas\",\"python\",\"jupyter\",np.nan,\"java\",\"colab\"])\n",
    "#string method inside pandas\n",
    "s.str.upper()"
   ]
  },
  {
   "cell_type": "code",
   "execution_count": 174,
   "id": "ec9bdb08",
   "metadata": {},
   "outputs": [
    {
     "data": {
      "text/html": [
       "<div>\n",
       "<style scoped>\n",
       "    .dataframe tbody tr th:only-of-type {\n",
       "        vertical-align: middle;\n",
       "    }\n",
       "\n",
       "    .dataframe tbody tr th {\n",
       "        vertical-align: top;\n",
       "    }\n",
       "\n",
       "    .dataframe thead th {\n",
       "        text-align: right;\n",
       "    }\n",
       "</style>\n",
       "<table border=\"1\" class=\"dataframe\">\n",
       "  <thead>\n",
       "    <tr style=\"text-align: right;\">\n",
       "      <th></th>\n",
       "      <th>0</th>\n",
       "      <th>1</th>\n",
       "      <th>2</th>\n",
       "      <th>3</th>\n",
       "    </tr>\n",
       "  </thead>\n",
       "  <tbody>\n",
       "    <tr>\n",
       "      <th>0</th>\n",
       "      <td>-0.462339</td>\n",
       "      <td>2.081238</td>\n",
       "      <td>1.634096</td>\n",
       "      <td>-1.247056</td>\n",
       "    </tr>\n",
       "    <tr>\n",
       "      <th>1</th>\n",
       "      <td>0.640725</td>\n",
       "      <td>-0.727094</td>\n",
       "      <td>-0.444563</td>\n",
       "      <td>-0.233426</td>\n",
       "    </tr>\n",
       "    <tr>\n",
       "      <th>2</th>\n",
       "      <td>0.369702</td>\n",
       "      <td>-1.406251</td>\n",
       "      <td>-0.607975</td>\n",
       "      <td>1.903503</td>\n",
       "    </tr>\n",
       "    <tr>\n",
       "      <th>3</th>\n",
       "      <td>0.687290</td>\n",
       "      <td>1.455342</td>\n",
       "      <td>-0.436371</td>\n",
       "      <td>-0.197273</td>\n",
       "    </tr>\n",
       "    <tr>\n",
       "      <th>4</th>\n",
       "      <td>-0.856395</td>\n",
       "      <td>-0.930794</td>\n",
       "      <td>2.468372</td>\n",
       "      <td>-1.430263</td>\n",
       "    </tr>\n",
       "    <tr>\n",
       "      <th>5</th>\n",
       "      <td>-0.512619</td>\n",
       "      <td>1.700828</td>\n",
       "      <td>-1.346040</td>\n",
       "      <td>0.741853</td>\n",
       "    </tr>\n",
       "    <tr>\n",
       "      <th>6</th>\n",
       "      <td>-0.792389</td>\n",
       "      <td>-0.817817</td>\n",
       "      <td>0.363192</td>\n",
       "      <td>0.532518</td>\n",
       "    </tr>\n",
       "    <tr>\n",
       "      <th>7</th>\n",
       "      <td>-0.145695</td>\n",
       "      <td>0.912552</td>\n",
       "      <td>-0.563899</td>\n",
       "      <td>-0.421989</td>\n",
       "    </tr>\n",
       "    <tr>\n",
       "      <th>8</th>\n",
       "      <td>0.915340</td>\n",
       "      <td>1.344560</td>\n",
       "      <td>2.744296</td>\n",
       "      <td>0.231355</td>\n",
       "    </tr>\n",
       "    <tr>\n",
       "      <th>9</th>\n",
       "      <td>-0.572751</td>\n",
       "      <td>-0.101819</td>\n",
       "      <td>0.347044</td>\n",
       "      <td>-1.162580</td>\n",
       "    </tr>\n",
       "  </tbody>\n",
       "</table>\n",
       "</div>"
      ],
      "text/plain": [
       "          0         1         2         3\n",
       "0 -0.462339  2.081238  1.634096 -1.247056\n",
       "1  0.640725 -0.727094 -0.444563 -0.233426\n",
       "2  0.369702 -1.406251 -0.607975  1.903503\n",
       "3  0.687290  1.455342 -0.436371 -0.197273\n",
       "4 -0.856395 -0.930794  2.468372 -1.430263\n",
       "5 -0.512619  1.700828 -1.346040  0.741853\n",
       "6 -0.792389 -0.817817  0.363192  0.532518\n",
       "7 -0.145695  0.912552 -0.563899 -0.421989\n",
       "8  0.915340  1.344560  2.744296  0.231355\n",
       "9 -0.572751 -0.101819  0.347044 -1.162580"
      ]
     },
     "execution_count": 174,
     "metadata": {},
     "output_type": "execute_result"
    }
   ],
   "source": [
    "df=pd.DataFrame(np.random.randn(10,4))\n",
    "df"
   ]
  },
  {
   "cell_type": "code",
   "execution_count": 175,
   "id": "56e31a61",
   "metadata": {},
   "outputs": [
    {
     "data": {
      "text/plain": [
       "[          0         1         2         3\n",
       " 0 -0.462339  2.081238  1.634096 -1.247056\n",
       " 1  0.640725 -0.727094 -0.444563 -0.233426\n",
       " 2  0.369702 -1.406251 -0.607975  1.903503,\n",
       "           0         1         2         3\n",
       " 3  0.687290  1.455342 -0.436371 -0.197273\n",
       " 4 -0.856395 -0.930794  2.468372 -1.430263\n",
       " 5 -0.512619  1.700828 -1.346040  0.741853\n",
       " 6 -0.792389 -0.817817  0.363192  0.532518,\n",
       "           0         1         2         3\n",
       " 7 -0.145695  0.912552 -0.563899 -0.421989\n",
       " 8  0.915340  1.344560  2.744296  0.231355\n",
       " 9 -0.572751 -0.101819  0.347044 -1.162580]"
      ]
     },
     "execution_count": 175,
     "metadata": {},
     "output_type": "execute_result"
    }
   ],
   "source": [
    "#break the dataframe\n",
    "df2=[df[:3],df[3:7],df[7:]]\n",
    "df2"
   ]
  },
  {
   "cell_type": "code",
   "execution_count": 176,
   "id": "8aca4ce7",
   "metadata": {},
   "outputs": [
    {
     "data": {
      "text/html": [
       "<div>\n",
       "<style scoped>\n",
       "    .dataframe tbody tr th:only-of-type {\n",
       "        vertical-align: middle;\n",
       "    }\n",
       "\n",
       "    .dataframe tbody tr th {\n",
       "        vertical-align: top;\n",
       "    }\n",
       "\n",
       "    .dataframe thead th {\n",
       "        text-align: right;\n",
       "    }\n",
       "</style>\n",
       "<table border=\"1\" class=\"dataframe\">\n",
       "  <thead>\n",
       "    <tr style=\"text-align: right;\">\n",
       "      <th></th>\n",
       "      <th>0</th>\n",
       "      <th>1</th>\n",
       "      <th>2</th>\n",
       "      <th>3</th>\n",
       "    </tr>\n",
       "  </thead>\n",
       "  <tbody>\n",
       "    <tr>\n",
       "      <th>0</th>\n",
       "      <td>-0.462339</td>\n",
       "      <td>2.081238</td>\n",
       "      <td>1.634096</td>\n",
       "      <td>-1.247056</td>\n",
       "    </tr>\n",
       "    <tr>\n",
       "      <th>1</th>\n",
       "      <td>0.640725</td>\n",
       "      <td>-0.727094</td>\n",
       "      <td>-0.444563</td>\n",
       "      <td>-0.233426</td>\n",
       "    </tr>\n",
       "    <tr>\n",
       "      <th>2</th>\n",
       "      <td>0.369702</td>\n",
       "      <td>-1.406251</td>\n",
       "      <td>-0.607975</td>\n",
       "      <td>1.903503</td>\n",
       "    </tr>\n",
       "    <tr>\n",
       "      <th>3</th>\n",
       "      <td>0.687290</td>\n",
       "      <td>1.455342</td>\n",
       "      <td>-0.436371</td>\n",
       "      <td>-0.197273</td>\n",
       "    </tr>\n",
       "    <tr>\n",
       "      <th>4</th>\n",
       "      <td>-0.856395</td>\n",
       "      <td>-0.930794</td>\n",
       "      <td>2.468372</td>\n",
       "      <td>-1.430263</td>\n",
       "    </tr>\n",
       "    <tr>\n",
       "      <th>5</th>\n",
       "      <td>-0.512619</td>\n",
       "      <td>1.700828</td>\n",
       "      <td>-1.346040</td>\n",
       "      <td>0.741853</td>\n",
       "    </tr>\n",
       "    <tr>\n",
       "      <th>6</th>\n",
       "      <td>-0.792389</td>\n",
       "      <td>-0.817817</td>\n",
       "      <td>0.363192</td>\n",
       "      <td>0.532518</td>\n",
       "    </tr>\n",
       "    <tr>\n",
       "      <th>7</th>\n",
       "      <td>-0.145695</td>\n",
       "      <td>0.912552</td>\n",
       "      <td>-0.563899</td>\n",
       "      <td>-0.421989</td>\n",
       "    </tr>\n",
       "    <tr>\n",
       "      <th>8</th>\n",
       "      <td>0.915340</td>\n",
       "      <td>1.344560</td>\n",
       "      <td>2.744296</td>\n",
       "      <td>0.231355</td>\n",
       "    </tr>\n",
       "    <tr>\n",
       "      <th>9</th>\n",
       "      <td>-0.572751</td>\n",
       "      <td>-0.101819</td>\n",
       "      <td>0.347044</td>\n",
       "      <td>-1.162580</td>\n",
       "    </tr>\n",
       "  </tbody>\n",
       "</table>\n",
       "</div>"
      ],
      "text/plain": [
       "          0         1         2         3\n",
       "0 -0.462339  2.081238  1.634096 -1.247056\n",
       "1  0.640725 -0.727094 -0.444563 -0.233426\n",
       "2  0.369702 -1.406251 -0.607975  1.903503\n",
       "3  0.687290  1.455342 -0.436371 -0.197273\n",
       "4 -0.856395 -0.930794  2.468372 -1.430263\n",
       "5 -0.512619  1.700828 -1.346040  0.741853\n",
       "6 -0.792389 -0.817817  0.363192  0.532518\n",
       "7 -0.145695  0.912552 -0.563899 -0.421989\n",
       "8  0.915340  1.344560  2.744296  0.231355\n",
       "9 -0.572751 -0.101819  0.347044 -1.162580"
      ]
     },
     "execution_count": 176,
     "metadata": {},
     "output_type": "execute_result"
    }
   ],
   "source": [
    "#concat several pieces\n",
    "pd.concat(df2)"
   ]
  },
  {
   "cell_type": "code",
   "execution_count": 177,
   "id": "9e17cad8",
   "metadata": {},
   "outputs": [
    {
     "data": {
      "text/html": [
       "<div>\n",
       "<style scoped>\n",
       "    .dataframe tbody tr th:only-of-type {\n",
       "        vertical-align: middle;\n",
       "    }\n",
       "\n",
       "    .dataframe tbody tr th {\n",
       "        vertical-align: top;\n",
       "    }\n",
       "\n",
       "    .dataframe thead th {\n",
       "        text-align: right;\n",
       "    }\n",
       "</style>\n",
       "<table border=\"1\" class=\"dataframe\">\n",
       "  <thead>\n",
       "    <tr style=\"text-align: right;\">\n",
       "      <th></th>\n",
       "      <th>A</th>\n",
       "      <th>B</th>\n",
       "    </tr>\n",
       "  </thead>\n",
       "  <tbody>\n",
       "    <tr>\n",
       "      <th>0</th>\n",
       "      <td>1</td>\n",
       "      <td>3</td>\n",
       "    </tr>\n",
       "    <tr>\n",
       "      <th>1</th>\n",
       "      <td>2</td>\n",
       "      <td>4</td>\n",
       "    </tr>\n",
       "  </tbody>\n",
       "</table>\n",
       "</div>"
      ],
      "text/plain": [
       "   A  B\n",
       "0  1  3\n",
       "1  2  4"
      ]
     },
     "execution_count": 177,
     "metadata": {},
     "output_type": "execute_result"
    }
   ],
   "source": [
    "left=pd.DataFrame({\"A\":[1,2],\"B\":[3,4]})\n",
    "left"
   ]
  },
  {
   "cell_type": "code",
   "execution_count": 178,
   "id": "c91fbc3a",
   "metadata": {},
   "outputs": [
    {
     "data": {
      "text/html": [
       "<div>\n",
       "<style scoped>\n",
       "    .dataframe tbody tr th:only-of-type {\n",
       "        vertical-align: middle;\n",
       "    }\n",
       "\n",
       "    .dataframe tbody tr th {\n",
       "        vertical-align: top;\n",
       "    }\n",
       "\n",
       "    .dataframe thead th {\n",
       "        text-align: right;\n",
       "    }\n",
       "</style>\n",
       "<table border=\"1\" class=\"dataframe\">\n",
       "  <thead>\n",
       "    <tr style=\"text-align: right;\">\n",
       "      <th></th>\n",
       "      <th>A</th>\n",
       "      <th>D</th>\n",
       "    </tr>\n",
       "  </thead>\n",
       "  <tbody>\n",
       "    <tr>\n",
       "      <th>0</th>\n",
       "      <td>3</td>\n",
       "      <td>4</td>\n",
       "    </tr>\n",
       "    <tr>\n",
       "      <th>1</th>\n",
       "      <td>2</td>\n",
       "      <td>5</td>\n",
       "    </tr>\n",
       "  </tbody>\n",
       "</table>\n",
       "</div>"
      ],
      "text/plain": [
       "   A  D\n",
       "0  3  4\n",
       "1  2  5"
      ]
     },
     "execution_count": 178,
     "metadata": {},
     "output_type": "execute_result"
    }
   ],
   "source": [
    "right=pd.DataFrame({\"A\":[3,2],\"D\":[4,5]})\n",
    "right"
   ]
  },
  {
   "cell_type": "code",
   "execution_count": 179,
   "id": "c82a691a",
   "metadata": {},
   "outputs": [
    {
     "data": {
      "text/html": [
       "<div>\n",
       "<style scoped>\n",
       "    .dataframe tbody tr th:only-of-type {\n",
       "        vertical-align: middle;\n",
       "    }\n",
       "\n",
       "    .dataframe tbody tr th {\n",
       "        vertical-align: top;\n",
       "    }\n",
       "\n",
       "    .dataframe thead th {\n",
       "        text-align: right;\n",
       "    }\n",
       "</style>\n",
       "<table border=\"1\" class=\"dataframe\">\n",
       "  <thead>\n",
       "    <tr style=\"text-align: right;\">\n",
       "      <th></th>\n",
       "      <th>A</th>\n",
       "      <th>B</th>\n",
       "      <th>D</th>\n",
       "    </tr>\n",
       "  </thead>\n",
       "  <tbody>\n",
       "    <tr>\n",
       "      <th>0</th>\n",
       "      <td>2</td>\n",
       "      <td>4</td>\n",
       "      <td>5</td>\n",
       "    </tr>\n",
       "  </tbody>\n",
       "</table>\n",
       "</div>"
      ],
      "text/plain": [
       "   A  B  D\n",
       "0  2  4  5"
      ]
     },
     "execution_count": 179,
     "metadata": {},
     "output_type": "execute_result"
    }
   ],
   "source": [
    "pd.merge(left,right,on=\"A\")"
   ]
  },
  {
   "cell_type": "code",
   "execution_count": 180,
   "id": "3a9c35e5",
   "metadata": {},
   "outputs": [
    {
     "data": {
      "text/html": [
       "<div>\n",
       "<style scoped>\n",
       "    .dataframe tbody tr th:only-of-type {\n",
       "        vertical-align: middle;\n",
       "    }\n",
       "\n",
       "    .dataframe tbody tr th {\n",
       "        vertical-align: top;\n",
       "    }\n",
       "\n",
       "    .dataframe thead th {\n",
       "        text-align: right;\n",
       "    }\n",
       "</style>\n",
       "<table border=\"1\" class=\"dataframe\">\n",
       "  <thead>\n",
       "    <tr style=\"text-align: right;\">\n",
       "      <th></th>\n",
       "      <th>0</th>\n",
       "      <th>1</th>\n",
       "      <th>2</th>\n",
       "      <th>3</th>\n",
       "    </tr>\n",
       "  </thead>\n",
       "  <tbody>\n",
       "    <tr>\n",
       "      <th>0</th>\n",
       "      <td>-0.462339</td>\n",
       "      <td>2.081238</td>\n",
       "      <td>1.634096</td>\n",
       "      <td>-1.247056</td>\n",
       "    </tr>\n",
       "    <tr>\n",
       "      <th>1</th>\n",
       "      <td>0.640725</td>\n",
       "      <td>-0.727094</td>\n",
       "      <td>-0.444563</td>\n",
       "      <td>-0.233426</td>\n",
       "    </tr>\n",
       "    <tr>\n",
       "      <th>2</th>\n",
       "      <td>0.369702</td>\n",
       "      <td>-1.406251</td>\n",
       "      <td>-0.607975</td>\n",
       "      <td>1.903503</td>\n",
       "    </tr>\n",
       "    <tr>\n",
       "      <th>3</th>\n",
       "      <td>0.687290</td>\n",
       "      <td>1.455342</td>\n",
       "      <td>-0.436371</td>\n",
       "      <td>-0.197273</td>\n",
       "    </tr>\n",
       "    <tr>\n",
       "      <th>4</th>\n",
       "      <td>-0.856395</td>\n",
       "      <td>-0.930794</td>\n",
       "      <td>2.468372</td>\n",
       "      <td>-1.430263</td>\n",
       "    </tr>\n",
       "    <tr>\n",
       "      <th>5</th>\n",
       "      <td>-0.512619</td>\n",
       "      <td>1.700828</td>\n",
       "      <td>-1.346040</td>\n",
       "      <td>0.741853</td>\n",
       "    </tr>\n",
       "    <tr>\n",
       "      <th>6</th>\n",
       "      <td>-0.792389</td>\n",
       "      <td>-0.817817</td>\n",
       "      <td>0.363192</td>\n",
       "      <td>0.532518</td>\n",
       "    </tr>\n",
       "    <tr>\n",
       "      <th>7</th>\n",
       "      <td>-0.145695</td>\n",
       "      <td>0.912552</td>\n",
       "      <td>-0.563899</td>\n",
       "      <td>-0.421989</td>\n",
       "    </tr>\n",
       "    <tr>\n",
       "      <th>8</th>\n",
       "      <td>0.915340</td>\n",
       "      <td>1.344560</td>\n",
       "      <td>2.744296</td>\n",
       "      <td>0.231355</td>\n",
       "    </tr>\n",
       "    <tr>\n",
       "      <th>9</th>\n",
       "      <td>-0.572751</td>\n",
       "      <td>-0.101819</td>\n",
       "      <td>0.347044</td>\n",
       "      <td>-1.162580</td>\n",
       "    </tr>\n",
       "  </tbody>\n",
       "</table>\n",
       "</div>"
      ],
      "text/plain": [
       "          0         1         2         3\n",
       "0 -0.462339  2.081238  1.634096 -1.247056\n",
       "1  0.640725 -0.727094 -0.444563 -0.233426\n",
       "2  0.369702 -1.406251 -0.607975  1.903503\n",
       "3  0.687290  1.455342 -0.436371 -0.197273\n",
       "4 -0.856395 -0.930794  2.468372 -1.430263\n",
       "5 -0.512619  1.700828 -1.346040  0.741853\n",
       "6 -0.792389 -0.817817  0.363192  0.532518\n",
       "7 -0.145695  0.912552 -0.563899 -0.421989\n",
       "8  0.915340  1.344560  2.744296  0.231355\n",
       "9 -0.572751 -0.101819  0.347044 -1.162580"
      ]
     },
     "execution_count": 180,
     "metadata": {},
     "output_type": "execute_result"
    }
   ],
   "source": [
    "df"
   ]
  },
  {
   "cell_type": "code",
   "execution_count": 181,
   "id": "e9786502",
   "metadata": {},
   "outputs": [
    {
     "data": {
      "text/html": [
       "<div>\n",
       "<style scoped>\n",
       "    .dataframe tbody tr th:only-of-type {\n",
       "        vertical-align: middle;\n",
       "    }\n",
       "\n",
       "    .dataframe tbody tr th {\n",
       "        vertical-align: top;\n",
       "    }\n",
       "\n",
       "    .dataframe thead th {\n",
       "        text-align: right;\n",
       "    }\n",
       "</style>\n",
       "<table border=\"1\" class=\"dataframe\">\n",
       "  <thead>\n",
       "    <tr style=\"text-align: right;\">\n",
       "      <th></th>\n",
       "      <th></th>\n",
       "      <th>0</th>\n",
       "      <th>1</th>\n",
       "    </tr>\n",
       "    <tr>\n",
       "      <th>2</th>\n",
       "      <th>3</th>\n",
       "      <th></th>\n",
       "      <th></th>\n",
       "    </tr>\n",
       "  </thead>\n",
       "  <tbody>\n",
       "    <tr>\n",
       "      <th>-1.346040</th>\n",
       "      <th>0.741853</th>\n",
       "      <td>-0.512619</td>\n",
       "      <td>1.700828</td>\n",
       "    </tr>\n",
       "    <tr>\n",
       "      <th>-0.607975</th>\n",
       "      <th>1.903503</th>\n",
       "      <td>0.369702</td>\n",
       "      <td>-1.406251</td>\n",
       "    </tr>\n",
       "    <tr>\n",
       "      <th>-0.563899</th>\n",
       "      <th>-0.421989</th>\n",
       "      <td>-0.145695</td>\n",
       "      <td>0.912552</td>\n",
       "    </tr>\n",
       "    <tr>\n",
       "      <th>-0.444563</th>\n",
       "      <th>-0.233426</th>\n",
       "      <td>0.640725</td>\n",
       "      <td>-0.727094</td>\n",
       "    </tr>\n",
       "    <tr>\n",
       "      <th>-0.436371</th>\n",
       "      <th>-0.197273</th>\n",
       "      <td>0.687290</td>\n",
       "      <td>1.455342</td>\n",
       "    </tr>\n",
       "    <tr>\n",
       "      <th>0.347044</th>\n",
       "      <th>-1.162580</th>\n",
       "      <td>-0.572751</td>\n",
       "      <td>-0.101819</td>\n",
       "    </tr>\n",
       "    <tr>\n",
       "      <th>0.363192</th>\n",
       "      <th>0.532518</th>\n",
       "      <td>-0.792389</td>\n",
       "      <td>-0.817817</td>\n",
       "    </tr>\n",
       "    <tr>\n",
       "      <th>1.634096</th>\n",
       "      <th>-1.247056</th>\n",
       "      <td>-0.462339</td>\n",
       "      <td>2.081238</td>\n",
       "    </tr>\n",
       "    <tr>\n",
       "      <th>2.468372</th>\n",
       "      <th>-1.430263</th>\n",
       "      <td>-0.856395</td>\n",
       "      <td>-0.930794</td>\n",
       "    </tr>\n",
       "    <tr>\n",
       "      <th>2.744296</th>\n",
       "      <th>0.231355</th>\n",
       "      <td>0.915340</td>\n",
       "      <td>1.344560</td>\n",
       "    </tr>\n",
       "  </tbody>\n",
       "</table>\n",
       "</div>"
      ],
      "text/plain": [
       "                            0         1\n",
       "2         3                            \n",
       "-1.346040  0.741853 -0.512619  1.700828\n",
       "-0.607975  1.903503  0.369702 -1.406251\n",
       "-0.563899 -0.421989 -0.145695  0.912552\n",
       "-0.444563 -0.233426  0.640725 -0.727094\n",
       "-0.436371 -0.197273  0.687290  1.455342\n",
       " 0.347044 -1.162580 -0.572751 -0.101819\n",
       " 0.363192  0.532518 -0.792389 -0.817817\n",
       " 1.634096 -1.247056 -0.462339  2.081238\n",
       " 2.468372 -1.430263 -0.856395 -0.930794\n",
       " 2.744296  0.231355  0.915340  1.344560"
      ]
     },
     "execution_count": 181,
     "metadata": {},
     "output_type": "execute_result"
    }
   ],
   "source": [
    "#groping\n",
    "df.groupby([2,3]).sum()"
   ]
  },
  {
   "cell_type": "code",
   "execution_count": 182,
   "id": "4d817507",
   "metadata": {},
   "outputs": [
    {
     "name": "stdout",
     "output_type": "stream",
     "text": [
      "<class 'list'>\n",
      "MultiIndex([( 1, 11),\n",
      "            ( 2, 12),\n",
      "            ( 3, 13),\n",
      "            ( 4,  6),\n",
      "            ( 5,  7),\n",
      "            (17,  8),\n",
      "            (18,  9),\n",
      "            (19, 10)],\n",
      "           names=['First', 'Second'])\n"
     ]
    },
    {
     "data": {
      "text/html": [
       "<div>\n",
       "<style scoped>\n",
       "    .dataframe tbody tr th:only-of-type {\n",
       "        vertical-align: middle;\n",
       "    }\n",
       "\n",
       "    .dataframe tbody tr th {\n",
       "        vertical-align: top;\n",
       "    }\n",
       "\n",
       "    .dataframe thead th {\n",
       "        text-align: right;\n",
       "    }\n",
       "</style>\n",
       "<table border=\"1\" class=\"dataframe\">\n",
       "  <thead>\n",
       "    <tr style=\"text-align: right;\">\n",
       "      <th></th>\n",
       "      <th></th>\n",
       "      <th>A</th>\n",
       "      <th>B</th>\n",
       "    </tr>\n",
       "    <tr>\n",
       "      <th>First</th>\n",
       "      <th>Second</th>\n",
       "      <th></th>\n",
       "      <th></th>\n",
       "    </tr>\n",
       "  </thead>\n",
       "  <tbody>\n",
       "    <tr>\n",
       "      <th>1</th>\n",
       "      <th>11</th>\n",
       "      <td>-0.412120</td>\n",
       "      <td>-1.563864</td>\n",
       "    </tr>\n",
       "    <tr>\n",
       "      <th>2</th>\n",
       "      <th>12</th>\n",
       "      <td>1.041973</td>\n",
       "      <td>1.548474</td>\n",
       "    </tr>\n",
       "  </tbody>\n",
       "</table>\n",
       "</div>"
      ],
      "text/plain": [
       "                     A         B\n",
       "First Second                    \n",
       "1     11     -0.412120 -1.563864\n",
       "2     12      1.041973  1.548474"
      ]
     },
     "execution_count": 182,
     "metadata": {},
     "output_type": "execute_result"
    }
   ],
   "source": [
    "#reshape the dataframework\n",
    "my_tuple=list(zip(*[[1,2,3,4,5,17,18,19],[11,12,13,6,7,8,9,10]]))\n",
    "print(type(my_tuple))\n",
    "index=pd.MultiIndex.from_tuples(my_tuple,names=[\"First\",\"Second\"])\n",
    "print(index)\n",
    "df=pd.DataFrame(np.random.randn(8,2),index=index,columns=[\"A\",\"B\"])\n",
    "df2=df[:2]\n",
    "df2"
   ]
  },
  {
   "cell_type": "code",
   "execution_count": 183,
   "id": "97174aa0",
   "metadata": {},
   "outputs": [
    {
     "data": {
      "text/plain": [
       "First  Second   \n",
       "1      11      A   -0.412120\n",
       "               B   -1.563864\n",
       "2      12      A    1.041973\n",
       "               B    1.548474\n",
       "dtype: float64"
      ]
     },
     "execution_count": 183,
     "metadata": {},
     "output_type": "execute_result"
    }
   ],
   "source": [
    "df2.stack()"
   ]
  },
  {
   "cell_type": "code",
   "execution_count": 184,
   "id": "b15a2cce",
   "metadata": {},
   "outputs": [
    {
     "data": {
      "text/html": [
       "<div>\n",
       "<style scoped>\n",
       "    .dataframe tbody tr th:only-of-type {\n",
       "        vertical-align: middle;\n",
       "    }\n",
       "\n",
       "    .dataframe tbody tr th {\n",
       "        vertical-align: top;\n",
       "    }\n",
       "\n",
       "    .dataframe thead tr th {\n",
       "        text-align: left;\n",
       "    }\n",
       "\n",
       "    .dataframe thead tr:last-of-type th {\n",
       "        text-align: right;\n",
       "    }\n",
       "</style>\n",
       "<table border=\"1\" class=\"dataframe\">\n",
       "  <thead>\n",
       "    <tr>\n",
       "      <th></th>\n",
       "      <th colspan=\"2\" halign=\"left\">A</th>\n",
       "      <th colspan=\"2\" halign=\"left\">B</th>\n",
       "    </tr>\n",
       "    <tr>\n",
       "      <th>Second</th>\n",
       "      <th>11</th>\n",
       "      <th>12</th>\n",
       "      <th>11</th>\n",
       "      <th>12</th>\n",
       "    </tr>\n",
       "    <tr>\n",
       "      <th>First</th>\n",
       "      <th></th>\n",
       "      <th></th>\n",
       "      <th></th>\n",
       "      <th></th>\n",
       "    </tr>\n",
       "  </thead>\n",
       "  <tbody>\n",
       "    <tr>\n",
       "      <th>1</th>\n",
       "      <td>-0.41212</td>\n",
       "      <td>NaN</td>\n",
       "      <td>-1.563864</td>\n",
       "      <td>NaN</td>\n",
       "    </tr>\n",
       "    <tr>\n",
       "      <th>2</th>\n",
       "      <td>NaN</td>\n",
       "      <td>1.041973</td>\n",
       "      <td>NaN</td>\n",
       "      <td>1.548474</td>\n",
       "    </tr>\n",
       "  </tbody>\n",
       "</table>\n",
       "</div>"
      ],
      "text/plain": [
       "              A                   B          \n",
       "Second       11        12        11        12\n",
       "First                                        \n",
       "1      -0.41212       NaN -1.563864       NaN\n",
       "2           NaN  1.041973       NaN  1.548474"
      ]
     },
     "execution_count": 184,
     "metadata": {},
     "output_type": "execute_result"
    }
   ],
   "source": [
    "df2.unstack()"
   ]
  },
  {
   "cell_type": "code",
   "execution_count": 185,
   "id": "55251f2d",
   "metadata": {},
   "outputs": [
    {
     "data": {
      "text/html": [
       "<div>\n",
       "<style scoped>\n",
       "    .dataframe tbody tr th:only-of-type {\n",
       "        vertical-align: middle;\n",
       "    }\n",
       "\n",
       "    .dataframe tbody tr th {\n",
       "        vertical-align: top;\n",
       "    }\n",
       "\n",
       "    .dataframe thead th {\n",
       "        text-align: right;\n",
       "    }\n",
       "</style>\n",
       "<table border=\"1\" class=\"dataframe\">\n",
       "  <thead>\n",
       "    <tr style=\"text-align: right;\">\n",
       "      <th></th>\n",
       "      <th>A</th>\n",
       "      <th>B</th>\n",
       "      <th>C</th>\n",
       "      <th>D</th>\n",
       "      <th>E</th>\n",
       "    </tr>\n",
       "  </thead>\n",
       "  <tbody>\n",
       "    <tr>\n",
       "      <th>0</th>\n",
       "      <td>a</td>\n",
       "      <td>A</td>\n",
       "      <td>P</td>\n",
       "      <td>1.448550</td>\n",
       "      <td>0.799399</td>\n",
       "    </tr>\n",
       "    <tr>\n",
       "      <th>1</th>\n",
       "      <td>b</td>\n",
       "      <td>B</td>\n",
       "      <td>P</td>\n",
       "      <td>0.744642</td>\n",
       "      <td>1.787775</td>\n",
       "    </tr>\n",
       "    <tr>\n",
       "      <th>2</th>\n",
       "      <td>c</td>\n",
       "      <td>C</td>\n",
       "      <td>P</td>\n",
       "      <td>0.354959</td>\n",
       "      <td>-0.444228</td>\n",
       "    </tr>\n",
       "    <tr>\n",
       "      <th>3</th>\n",
       "      <td>d</td>\n",
       "      <td>A</td>\n",
       "      <td>Q</td>\n",
       "      <td>-0.585844</td>\n",
       "      <td>0.159051</td>\n",
       "    </tr>\n",
       "    <tr>\n",
       "      <th>4</th>\n",
       "      <td>a</td>\n",
       "      <td>B</td>\n",
       "      <td>Q</td>\n",
       "      <td>1.022924</td>\n",
       "      <td>1.696417</td>\n",
       "    </tr>\n",
       "    <tr>\n",
       "      <th>5</th>\n",
       "      <td>b</td>\n",
       "      <td>C</td>\n",
       "      <td>Q</td>\n",
       "      <td>-0.838247</td>\n",
       "      <td>0.878994</td>\n",
       "    </tr>\n",
       "    <tr>\n",
       "      <th>6</th>\n",
       "      <td>c</td>\n",
       "      <td>A</td>\n",
       "      <td>P</td>\n",
       "      <td>-0.657705</td>\n",
       "      <td>0.240303</td>\n",
       "    </tr>\n",
       "    <tr>\n",
       "      <th>7</th>\n",
       "      <td>d</td>\n",
       "      <td>B</td>\n",
       "      <td>P</td>\n",
       "      <td>0.675959</td>\n",
       "      <td>-1.645572</td>\n",
       "    </tr>\n",
       "    <tr>\n",
       "      <th>8</th>\n",
       "      <td>a</td>\n",
       "      <td>C</td>\n",
       "      <td>P</td>\n",
       "      <td>-0.851792</td>\n",
       "      <td>-0.127962</td>\n",
       "    </tr>\n",
       "    <tr>\n",
       "      <th>9</th>\n",
       "      <td>b</td>\n",
       "      <td>A</td>\n",
       "      <td>Q</td>\n",
       "      <td>-0.159438</td>\n",
       "      <td>0.568776</td>\n",
       "    </tr>\n",
       "    <tr>\n",
       "      <th>10</th>\n",
       "      <td>c</td>\n",
       "      <td>B</td>\n",
       "      <td>Q</td>\n",
       "      <td>0.359912</td>\n",
       "      <td>1.151263</td>\n",
       "    </tr>\n",
       "    <tr>\n",
       "      <th>11</th>\n",
       "      <td>d</td>\n",
       "      <td>C</td>\n",
       "      <td>Q</td>\n",
       "      <td>-0.154998</td>\n",
       "      <td>-0.346290</td>\n",
       "    </tr>\n",
       "  </tbody>\n",
       "</table>\n",
       "</div>"
      ],
      "text/plain": [
       "    A  B  C         D         E\n",
       "0   a  A  P  1.448550  0.799399\n",
       "1   b  B  P  0.744642  1.787775\n",
       "2   c  C  P  0.354959 -0.444228\n",
       "3   d  A  Q -0.585844  0.159051\n",
       "4   a  B  Q  1.022924  1.696417\n",
       "5   b  C  Q -0.838247  0.878994\n",
       "6   c  A  P -0.657705  0.240303\n",
       "7   d  B  P  0.675959 -1.645572\n",
       "8   a  C  P -0.851792 -0.127962\n",
       "9   b  A  Q -0.159438  0.568776\n",
       "10  c  B  Q  0.359912  1.151263\n",
       "11  d  C  Q -0.154998 -0.346290"
      ]
     },
     "execution_count": 185,
     "metadata": {},
     "output_type": "execute_result"
    }
   ],
   "source": [
    "df=pd.DataFrame({\"A\":[\"a\",\"b\",\"c\",\"d\"]*3,\n",
    "                 \"B\":[\"A\",\"B\",\"C\"]*4,\n",
    "                 \"C\":[\"P\",\"P\",\"P\",\"Q\",\"Q\",\"Q\"]*2,\n",
    "                  \"D\":np.random.randn(12),\n",
    "                  \"E\":np.random.randn(12)})\n",
    "df"
   ]
  },
  {
   "cell_type": "code",
   "execution_count": 186,
   "id": "e07f1396",
   "metadata": {},
   "outputs": [
    {
     "data": {
      "text/html": [
       "<div>\n",
       "<style scoped>\n",
       "    .dataframe tbody tr th:only-of-type {\n",
       "        vertical-align: middle;\n",
       "    }\n",
       "\n",
       "    .dataframe tbody tr th {\n",
       "        vertical-align: top;\n",
       "    }\n",
       "\n",
       "    .dataframe thead th {\n",
       "        text-align: right;\n",
       "    }\n",
       "</style>\n",
       "<table border=\"1\" class=\"dataframe\">\n",
       "  <thead>\n",
       "    <tr style=\"text-align: right;\">\n",
       "      <th></th>\n",
       "      <th>C</th>\n",
       "      <th>P</th>\n",
       "      <th>Q</th>\n",
       "    </tr>\n",
       "    <tr>\n",
       "      <th>A</th>\n",
       "      <th>B</th>\n",
       "      <th></th>\n",
       "      <th></th>\n",
       "    </tr>\n",
       "  </thead>\n",
       "  <tbody>\n",
       "    <tr>\n",
       "      <th rowspan=\"3\" valign=\"top\">a</th>\n",
       "      <th>A</th>\n",
       "      <td>1.448550</td>\n",
       "      <td>NaN</td>\n",
       "    </tr>\n",
       "    <tr>\n",
       "      <th>B</th>\n",
       "      <td>NaN</td>\n",
       "      <td>1.022924</td>\n",
       "    </tr>\n",
       "    <tr>\n",
       "      <th>C</th>\n",
       "      <td>-0.851792</td>\n",
       "      <td>NaN</td>\n",
       "    </tr>\n",
       "    <tr>\n",
       "      <th rowspan=\"3\" valign=\"top\">b</th>\n",
       "      <th>A</th>\n",
       "      <td>NaN</td>\n",
       "      <td>-0.159438</td>\n",
       "    </tr>\n",
       "    <tr>\n",
       "      <th>B</th>\n",
       "      <td>0.744642</td>\n",
       "      <td>NaN</td>\n",
       "    </tr>\n",
       "    <tr>\n",
       "      <th>C</th>\n",
       "      <td>NaN</td>\n",
       "      <td>-0.838247</td>\n",
       "    </tr>\n",
       "    <tr>\n",
       "      <th rowspan=\"3\" valign=\"top\">c</th>\n",
       "      <th>A</th>\n",
       "      <td>-0.657705</td>\n",
       "      <td>NaN</td>\n",
       "    </tr>\n",
       "    <tr>\n",
       "      <th>B</th>\n",
       "      <td>NaN</td>\n",
       "      <td>0.359912</td>\n",
       "    </tr>\n",
       "    <tr>\n",
       "      <th>C</th>\n",
       "      <td>0.354959</td>\n",
       "      <td>NaN</td>\n",
       "    </tr>\n",
       "    <tr>\n",
       "      <th rowspan=\"3\" valign=\"top\">d</th>\n",
       "      <th>A</th>\n",
       "      <td>NaN</td>\n",
       "      <td>-0.585844</td>\n",
       "    </tr>\n",
       "    <tr>\n",
       "      <th>B</th>\n",
       "      <td>0.675959</td>\n",
       "      <td>NaN</td>\n",
       "    </tr>\n",
       "    <tr>\n",
       "      <th>C</th>\n",
       "      <td>NaN</td>\n",
       "      <td>-0.154998</td>\n",
       "    </tr>\n",
       "  </tbody>\n",
       "</table>\n",
       "</div>"
      ],
      "text/plain": [
       "C           P         Q\n",
       "A B                    \n",
       "a A  1.448550       NaN\n",
       "  B       NaN  1.022924\n",
       "  C -0.851792       NaN\n",
       "b A       NaN -0.159438\n",
       "  B  0.744642       NaN\n",
       "  C       NaN -0.838247\n",
       "c A -0.657705       NaN\n",
       "  B       NaN  0.359912\n",
       "  C  0.354959       NaN\n",
       "d A       NaN -0.585844\n",
       "  B  0.675959       NaN\n",
       "  C       NaN -0.154998"
      ]
     },
     "execution_count": 186,
     "metadata": {},
     "output_type": "execute_result"
    }
   ],
   "source": [
    "pd.pivot_table(df,values=\"D\",index=[\"A\",\"B\"],columns=[\"C\"])"
   ]
  },
  {
   "cell_type": "code",
   "execution_count": 187,
   "id": "ac0db5eb",
   "metadata": {},
   "outputs": [
    {
     "data": {
      "text/plain": [
       "DatetimeIndex(['2022-05-31 00:00:00', '2022-05-31 00:00:01',\n",
       "               '2022-05-31 00:00:02', '2022-05-31 00:00:03',\n",
       "               '2022-05-31 00:00:04'],\n",
       "              dtype='datetime64[ns]', freq='S')"
      ]
     },
     "execution_count": 187,
     "metadata": {},
     "output_type": "execute_result"
    }
   ],
   "source": [
    "dates=pd.date_range(\"31/05/2022 00:00\",periods=5,freq=\"s\")\n",
    "dates"
   ]
  },
  {
   "cell_type": "code",
   "execution_count": 188,
   "id": "6f56f451",
   "metadata": {},
   "outputs": [
    {
     "data": {
      "text/plain": [
       "2022-05-31 00:00:00    4\n",
       "2022-05-31 00:00:01    4\n",
       "2022-05-31 00:00:02    4\n",
       "2022-05-31 00:00:03    4\n",
       "2022-05-31 00:00:04    4\n",
       "Freq: S, dtype: int64"
      ]
     },
     "execution_count": 188,
     "metadata": {},
     "output_type": "execute_result"
    }
   ],
   "source": [
    "ts=pd.Series(np.random.randint(len(dates)),dates)\n",
    "ts"
   ]
  },
  {
   "cell_type": "code",
   "execution_count": 189,
   "id": "ceae62e8",
   "metadata": {},
   "outputs": [
    {
     "data": {
      "text/plain": [
       "2022-05-31 00:00:00+00:00    4\n",
       "2022-05-31 00:00:01+00:00    4\n",
       "2022-05-31 00:00:02+00:00    4\n",
       "2022-05-31 00:00:03+00:00    4\n",
       "2022-05-31 00:00:04+00:00    4\n",
       "Freq: S, dtype: int64"
      ]
     },
     "execution_count": 189,
     "metadata": {},
     "output_type": "execute_result"
    }
   ],
   "source": [
    "ts_utc=ts.tz_localize(\"UTC\")\n",
    "ts_utc"
   ]
  },
  {
   "cell_type": "code",
   "execution_count": 190,
   "id": "3f4beade",
   "metadata": {},
   "outputs": [
    {
     "data": {
      "text/plain": [
       "2022-05-30 20:00:00-04:00    4\n",
       "2022-05-30 20:00:01-04:00    4\n",
       "2022-05-30 20:00:02-04:00    4\n",
       "2022-05-30 20:00:03-04:00    4\n",
       "2022-05-30 20:00:04-04:00    4\n",
       "Freq: S, dtype: int64"
      ]
     },
     "execution_count": 190,
     "metadata": {},
     "output_type": "execute_result"
    }
   ],
   "source": [
    "ts_utc.tz_convert(\"Us/Eastern\")\n"
   ]
  },
  {
   "cell_type": "code",
   "execution_count": 199,
   "id": "be8d798f",
   "metadata": {},
   "outputs": [
    {
     "data": {
      "text/plain": [
       "DatetimeIndex(['2022-05-31', '2022-06-30', '2022-07-31', '2022-08-31',\n",
       "               '2022-09-30'],\n",
       "              dtype='datetime64[ns]', freq='M')"
      ]
     },
     "execution_count": 199,
     "metadata": {},
     "output_type": "execute_result"
    }
   ],
   "source": [
    "dates=pd.date_range(\"31/05/2022 00:00\",periods=5,freq=\"M\")\n",
    "dates"
   ]
  },
  {
   "cell_type": "code",
   "execution_count": 192,
   "id": "38b2e403",
   "metadata": {},
   "outputs": [
    {
     "data": {
      "text/plain": [
       "2022-05-31    1\n",
       "2022-06-30    1\n",
       "2022-07-31    1\n",
       "2022-08-31    1\n",
       "2022-09-30    1\n",
       "Freq: M, dtype: int64"
      ]
     },
     "execution_count": 192,
     "metadata": {},
     "output_type": "execute_result"
    }
   ],
   "source": [
    "ts=pd.Series(np.random.randint(len(dates)),dates)\n",
    "ts"
   ]
  },
  {
   "cell_type": "code",
   "execution_count": 193,
   "id": "a4213d9b",
   "metadata": {},
   "outputs": [
    {
     "data": {
      "text/plain": [
       "2022-05    1\n",
       "2022-06    1\n",
       "2022-07    1\n",
       "2022-08    1\n",
       "2022-09    1\n",
       "Freq: M, dtype: int64"
      ]
     },
     "execution_count": 193,
     "metadata": {},
     "output_type": "execute_result"
    }
   ],
   "source": [
    "ps=ts.to_period()\n",
    "ps"
   ]
  },
  {
   "cell_type": "code",
   "execution_count": 194,
   "id": "532f3bbd",
   "metadata": {},
   "outputs": [
    {
     "data": {
      "text/plain": [
       "2022-05-01    1\n",
       "2022-06-01    1\n",
       "2022-07-01    1\n",
       "2022-08-01    1\n",
       "2022-09-01    1\n",
       "Freq: MS, dtype: int64"
      ]
     },
     "execution_count": 194,
     "metadata": {},
     "output_type": "execute_result"
    }
   ],
   "source": [
    "ps.to_timestamp()"
   ]
  },
  {
   "cell_type": "code",
   "execution_count": 195,
   "id": "f8df0759",
   "metadata": {},
   "outputs": [
    {
     "data": {
      "text/html": [
       "<div>\n",
       "<style scoped>\n",
       "    .dataframe tbody tr th:only-of-type {\n",
       "        vertical-align: middle;\n",
       "    }\n",
       "\n",
       "    .dataframe tbody tr th {\n",
       "        vertical-align: top;\n",
       "    }\n",
       "\n",
       "    .dataframe thead th {\n",
       "        text-align: right;\n",
       "    }\n",
       "</style>\n",
       "<table border=\"1\" class=\"dataframe\">\n",
       "  <thead>\n",
       "    <tr style=\"text-align: right;\">\n",
       "      <th></th>\n",
       "      <th>id</th>\n",
       "      <th>grade</th>\n",
       "    </tr>\n",
       "  </thead>\n",
       "  <tbody>\n",
       "    <tr>\n",
       "      <th>0</th>\n",
       "      <td>1</td>\n",
       "      <td>a</td>\n",
       "    </tr>\n",
       "    <tr>\n",
       "      <th>1</th>\n",
       "      <td>2</td>\n",
       "      <td>b</td>\n",
       "    </tr>\n",
       "    <tr>\n",
       "      <th>2</th>\n",
       "      <td>3</td>\n",
       "      <td>c</td>\n",
       "    </tr>\n",
       "    <tr>\n",
       "      <th>3</th>\n",
       "      <td>4</td>\n",
       "      <td>b</td>\n",
       "    </tr>\n",
       "    <tr>\n",
       "      <th>4</th>\n",
       "      <td>5</td>\n",
       "      <td>a</td>\n",
       "    </tr>\n",
       "    <tr>\n",
       "      <th>5</th>\n",
       "      <td>6</td>\n",
       "      <td>e</td>\n",
       "    </tr>\n",
       "  </tbody>\n",
       "</table>\n",
       "</div>"
      ],
      "text/plain": [
       "   id grade\n",
       "0   1     a\n",
       "1   2     b\n",
       "2   3     c\n",
       "3   4     b\n",
       "4   5     a\n",
       "5   6     e"
      ]
     },
     "execution_count": 195,
     "metadata": {},
     "output_type": "execute_result"
    }
   ],
   "source": [
    "df=pd.DataFrame({\"id\":[1,2,3,4,5,6],\n",
    "                \"grade\":[\"a\",\"b\",\"c\",\"b\",\"a\",\"e\"]})\n",
    "df"
   ]
  },
  {
   "cell_type": "code",
   "execution_count": 196,
   "id": "12bf09f4",
   "metadata": {},
   "outputs": [
    {
     "data": {
      "text/plain": [
       "0    a\n",
       "1    b\n",
       "2    c\n",
       "3    b\n",
       "4    a\n",
       "5    e\n",
       "Name: Grade, dtype: category\n",
       "Categories (4, object): ['a', 'b', 'c', 'e']"
      ]
     },
     "execution_count": 196,
     "metadata": {},
     "output_type": "execute_result"
    }
   ],
   "source": [
    "df[\"Grade\"]=df[\"grade\"].astype(\"category\")\n",
    "df[\"Grade\"]"
   ]
  },
  {
   "cell_type": "code",
   "execution_count": 197,
   "id": "2d5ab37e",
   "metadata": {},
   "outputs": [],
   "source": [
    "df[\"Grade\"].cat.categories=[\"good\",\"very bad\",\"very good\",\"excellent\"]\n"
   ]
  },
  {
   "cell_type": "code",
   "execution_count": 198,
   "id": "b8203226",
   "metadata": {},
   "outputs": [
    {
     "data": {
      "text/plain": [
       "0         good\n",
       "1     very bad\n",
       "2    very good\n",
       "3     very bad\n",
       "4         good\n",
       "5          NaN\n",
       "Name: Grade, dtype: category\n",
       "Categories (5, object): ['very good', 'bad', 'very bad', 'good', 'medium']"
      ]
     },
     "execution_count": 198,
     "metadata": {},
     "output_type": "execute_result"
    }
   ],
   "source": [
    "df[\"Grade\"]=df[\"Grade\"].cat.set_categories([\"very good\",\"bad\",\"very bad\",\"good\",\"medium\"])\n",
    "df[\"Grade\"]\n",
    "                                           "
   ]
  },
  {
   "cell_type": "code",
   "execution_count": null,
   "id": "1f5afc59",
   "metadata": {},
   "outputs": [],
   "source": []
  }
 ],
 "metadata": {
  "kernelspec": {
   "display_name": "Python 3 (ipykernel)",
   "language": "python",
   "name": "python3"
  },
  "language_info": {
   "codemirror_mode": {
    "name": "ipython",
    "version": 3
   },
   "file_extension": ".py",
   "mimetype": "text/x-python",
   "name": "python",
   "nbconvert_exporter": "python",
   "pygments_lexer": "ipython3",
   "version": "3.9.12"
  }
 },
 "nbformat": 4,
 "nbformat_minor": 5
}
